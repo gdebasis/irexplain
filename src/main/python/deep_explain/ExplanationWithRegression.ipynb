{
 "cells": [
  {
   "cell_type": "code",
   "execution_count": 91,
   "metadata": {
    "collapsed": false
   },
   "outputs": [
    {
     "name": "stdout",
     "output_type": "stream",
     "text": [
      "Training Linear Regression Model\n",
      "For Query 0  Coefficients of the regression model\n",
      "[[  3.72113556  -3.48481247   0.48570384 -69.21778442  54.73964609\n",
      "  -10.2479757   -1.21876535   3.33964178  -2.2654789    0.573986\n",
      "   -1.18666335   0.8248262 ]]\n",
      "RMS  0.3049083922864949\n",
      "Training Linear Regression Model\n",
      "For Query 1  Coefficients of the regression model\n",
      "[[  3.97199593  -4.52542245   1.50144782 -84.89650532  77.58881734\n",
      "  -18.5096312   -3.38713596   6.94124301   1.40461362  -0.08878859\n",
      "   -0.13179149   0.32747199]]\n",
      "RMS  0.2762905688092657\n",
      "First Avg Coeff  3.84656574588589\n"
     ]
    }
   ],
   "source": [
    "import numpy as np\n",
    "import sys\n",
    "from sklearn.linear_model import LinearRegression\n",
    "from sklearn.metrics import mean_squared_error\n",
    "\n",
    "filePath=\"C:/Users/Procheta/Desktop/Result/train_DRMM\"\n",
    "writeFile=\"C:/Users/Procheta/Desktop/Result/DRMM_Coeff1.txt\"\n",
    "seperator=\"\\t\"\n",
    "\n",
    "maxlen=400\n",
    "numQueries=2\n",
    "dim=13\n",
    "\n",
    "def MinMaxNormalize(x, maxVal,index):\n",
    "    for i in range(len(x)):\n",
    "        x[i][index] = x[i][index]/maxVal\n",
    "    return x\n",
    "\n",
    "#Initialize max Element For Ecach Dimension\n",
    "maxElements=[]\n",
    "for i in range(dim):\n",
    "    maxElements.append(-1)\n",
    "\n",
    "totalSum=[]\n",
    "for i in range(dim-1):\n",
    "    totalSum.append(0)\n",
    "\n",
    "f= open(writeFile,\"w\")\n",
    "\n",
    "for i in range(numQueries):\n",
    "    OnehotVecPath=filePath+str(i)+'.txt'\n",
    "    input_array=[]\n",
    "    with open(OnehotVecPath) as csv_file:\n",
    "        for idx in csv_file:\n",
    "            line=idx.split('\\n')\n",
    "            words=line[0].split(seperator)\n",
    "            index=0\n",
    "            row_vector=[]\n",
    "            length=len(words)\n",
    "            for j in range(1,length):\n",
    "                x=float(words[j])\n",
    "                if maxElements[index] < x:               \n",
    "                    maxElements[index]= x\n",
    "                index=index+1\n",
    "                row_vector.append(x)\n",
    "            input_array.append(row_vector)\n",
    "\n",
    "        for j in range(dim):\n",
    "            if maxElements[j] != 0:\n",
    "                input_array=MinMaxNormalize(input_array,maxElements[j],j)\n",
    "        \n",
    "    \n",
    "    print(\"Training Linear Regression Model\")\n",
    "    input_array=np.array(input_array)\n",
    "    reg = LinearRegression().fit(input_array[:,0:dim-1], input_array[:,dim-1:dim] )\n",
    "    print(\"For Query\",i,\" Coefficients of the regression model\")\n",
    "    print(reg.coef_)\n",
    "    predicted_score=reg.predict(input_array[:,0:dim-1])\n",
    "    rms = sqrt(mean_squared_error(input_array[:,dim-1:dim], predicted_score))\n",
    "    print(\"RMS \",rms)\n",
    "    \n",
    "    ##Writing Regression Coefficients\n",
    "    for k in range(len(reg.coef_[0])-1):\n",
    "        f.write(str(reg.coef_[0][i])+\" \")\n",
    "    f.write(str(reg.coef_[0][len(reg.coef_)-1]))\n",
    "    f.write(\"\\n\")\n",
    "    \n",
    "    for k in range(0,dim-1):\n",
    "        totalSum[k] = totalSum[k]+reg.coef_[0][k]\n",
    "   \n",
    "    \n",
    "f.close()\n",
    "print(\"First Avg Coeff \", totalSum[0]/numQueries)\n",
    "\n"
   ]
  },
  {
   "cell_type": "code",
   "execution_count": null,
   "metadata": {
    "collapsed": true
   },
   "outputs": [],
   "source": []
  }
 ],
 "metadata": {
  "kernelspec": {
   "display_name": "Python 3",
   "language": "python",
   "name": "python3"
  },
  "language_info": {
   "codemirror_mode": {
    "name": "ipython",
    "version": 3
   },
   "file_extension": ".py",
   "mimetype": "text/x-python",
   "name": "python",
   "nbconvert_exporter": "python",
   "pygments_lexer": "ipython3",
   "version": "3.5.2"
  }
 },
 "nbformat": 4,
 "nbformat_minor": 2
}
