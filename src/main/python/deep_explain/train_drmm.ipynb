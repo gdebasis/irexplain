{
 "cells": [
  {
   "cell_type": "code",
   "execution_count": 40,
   "metadata": {},
   "outputs": [],
   "source": [
    "import matchzoo as mz\n",
    "import pandas as pd\n",
    "import numpy as np\n",
    "import matplotlib.pyplot as plt\n"
   ]
  },
  {
   "cell_type": "markdown",
   "metadata": {},
   "source": [
    "##### Fetch the dataset"
   ]
  },
  {
   "cell_type": "code",
   "execution_count": 3,
   "metadata": {},
   "outputs": [
    {
     "name": "stdout",
     "output_type": "stream",
     "text": [
      "--2019-11-07 16:45:28--  https://msmarco.blob.core.windows.net/msmarcoranking/qrels.train.tsv\n",
      "Resolving msmarco.blob.core.windows.net (msmarco.blob.core.windows.net)... 40.112.152.16\n",
      "Connecting to msmarco.blob.core.windows.net (msmarco.blob.core.windows.net)|40.112.152.16|:443... connected.\n",
      "HTTP request sent, awaiting response... 200 OK\n",
      "Length: 10589532 (10M) [text/tab-separated-values]\n",
      "Saving to: ‘qrels.train.tsv’\n",
      "\n",
      "100%[======================================>] 10,589,532  18.8MB/s   in 0.5s   \n",
      "\n",
      "2019-11-07 16:45:29 (18.8 MB/s) - ‘qrels.train.tsv’ saved [10589532/10589532]\n",
      "\n"
     ]
    }
   ],
   "source": [
    "!wget https://msmarco.blob.core.windows.net/msmarcoranking/qrels.train.tsv"
   ]
  },
  {
   "cell_type": "code",
   "execution_count": 4,
   "metadata": {},
   "outputs": [
    {
     "name": "stdout",
     "output_type": "stream",
     "text": [
      "--2019-11-07 16:45:48--  https://msmarco.blob.core.windows.net/msmarcoranking/collectionandqueries.tar.gz\n",
      "Resolving msmarco.blob.core.windows.net (msmarco.blob.core.windows.net)... 40.112.152.16\n",
      "Connecting to msmarco.blob.core.windows.net (msmarco.blob.core.windows.net)|40.112.152.16|:443... connected.\n",
      "HTTP request sent, awaiting response... 200 OK\n",
      "Length: 1057717952 (1009M) [application/gzip]\n",
      "Saving to: ‘collectionandqueries.tar.gz’\n",
      "\n",
      "100%[====================================>] 1,057,717,952 16.4MB/s   in 57s    \n",
      "\n",
      "2019-11-07 16:46:46 (17.6 MB/s) - ‘collectionandqueries.tar.gz’ saved [1057717952/1057717952]\n",
      "\n"
     ]
    }
   ],
   "source": [
    "!wget https://msmarco.blob.core.windows.net/msmarcoranking/collectionandqueries.tar.gz"
   ]
  },
  {
   "cell_type": "code",
   "execution_count": 5,
   "metadata": {},
   "outputs": [
    {
     "name": "stdout",
     "output_type": "stream",
     "text": [
      "--2019-11-07 17:02:20--  http://nlp.stanford.edu/data/glove.6B.zip\n",
      "Resolving nlp.stanford.edu (nlp.stanford.edu)... 171.64.67.140\n",
      "Connecting to nlp.stanford.edu (nlp.stanford.edu)|171.64.67.140|:80... connected.\n",
      "HTTP request sent, awaiting response... 302 Found\n",
      "Location: https://nlp.stanford.edu/data/glove.6B.zip [following]\n",
      "--2019-11-07 17:02:20--  https://nlp.stanford.edu/data/glove.6B.zip\n",
      "Connecting to nlp.stanford.edu (nlp.stanford.edu)|171.64.67.140|:443... connected.\n",
      "HTTP request sent, awaiting response... 301 Moved Permanently\n",
      "Location: http://downloads.cs.stanford.edu/nlp/data/glove.6B.zip [following]\n",
      "--2019-11-07 17:02:20--  http://downloads.cs.stanford.edu/nlp/data/glove.6B.zip\n",
      "Resolving downloads.cs.stanford.edu (downloads.cs.stanford.edu)... 171.64.64.22\n",
      "Connecting to downloads.cs.stanford.edu (downloads.cs.stanford.edu)|171.64.64.22|:80... connected.\n",
      "HTTP request sent, awaiting response... 200 OK\n",
      "Length: 862182613 (822M) [application/zip]\n",
      "Saving to: ‘glove.6B.zip’\n",
      "\n",
      "100%[======================================>] 862,182,613 1.92MB/s   in 6m 31s \n",
      "\n",
      "2019-11-07 17:08:52 (2.10 MB/s) - ‘glove.6B.zip’ saved [862182613/862182613]\n",
      "\n"
     ]
    }
   ],
   "source": [
    "!wget http://nlp.stanford.edu/data/glove.6B.zip"
   ]
  },
  {
   "cell_type": "code",
   "execution_count": 6,
   "metadata": {},
   "outputs": [
    {
     "name": "stdout",
     "output_type": "stream",
     "text": [
      "Archive:  glove.6B.zip\n",
      "  inflating: glove.6B.50d.txt        \n",
      "  inflating: glove.6B.100d.txt       \n",
      "  inflating: glove.6B.200d.txt       \n",
      "  inflating: glove.6B.300d.txt       \n"
     ]
    }
   ],
   "source": [
    "##### Load the embeddings\n",
    "!unzip glove.6B.zip"
   ]
  },
  {
   "cell_type": "code",
   "execution_count": 8,
   "metadata": {},
   "outputs": [
    {
     "name": "stdout",
     "output_type": "stream",
     "text": [
      "2.2.0\n"
     ]
    }
   ],
   "source": [
    "import matchzoo as mz\n",
    "import pandas as pd\n",
    "\n",
    "from sklearn.utils import shuffle\n",
    "print(mz.__version__)\n",
    "from scipy.spatial.distance import cosine\n",
    "from matchzoo.metrics import Precision\n"
   ]
  },
  {
   "cell_type": "markdown",
   "metadata": {},
   "source": [
    "##### Define functions and metrics\n"
   ]
  },
  {
   "cell_type": "code",
   "execution_count": 9,
   "metadata": {},
   "outputs": [],
   "source": [
    "\"\"\"Precision for ranking.\"\"\"\n",
    "import numpy as np\n",
    "\n",
    "from matchzoo.engine.base_metric import BaseMetric, sort_and_couple\n",
    "\n",
    "\n",
    "class PrecisionCheck(BaseMetric):\n",
    "    \"\"\"Precision metric.\"\"\"\n",
    "\n",
    "    ALIAS = 'precision'\n",
    "\n",
    "    def __init__(self, k: int = 1, threshold: float = 0.):\n",
    "        \"\"\"\n",
    "        :class:`PrecisionMetric` constructor.\n",
    "        :param k: Number of results to consider.\n",
    "        :param threshold: the label threshold of relevance degree.\n",
    "        \"\"\"\n",
    "        self._k = k\n",
    "        self._threshold = threshold\n",
    "\n",
    "    def __repr__(self) -> str:\n",
    "        \"\"\":return: Formated string representation of the metric.\"\"\"\n",
    "        return f\"{self.ALIAS}@{self._k}({self._threshold})\"\n",
    "\n",
    "    def __call__(self, y_true: np.array, y_pred: np.array) -> float:\n",
    "        #print('number of results', y_true.shape)\n",
    "        \"\"\"\n",
    "        Calculate precision@k.\n",
    "        Example:\n",
    "            >>> y_true = [0, 0, 0, 1]\n",
    "            >>> y_pred = [0.2, 0.4, 0.3, 0.1]\n",
    "            >>> Precision(k=1)(y_true, y_pred)\n",
    "            0.0\n",
    "            >>> Precision(k=2)(y_true, y_pred)\n",
    "            0.0\n",
    "            >>> Precision(k=4)(y_true, y_pred)\n",
    "            0.25\n",
    "            >>> Precision(k=5)(y_true, y_pred)\n",
    "            0.2\n",
    "        :param y_true: The ground true label of each document.\n",
    "        :param y_pred: The predicted scores of each document.\n",
    "        :return: Precision @ k\n",
    "        :raises: ValueError: len(r) must be >= k.\n",
    "        \"\"\"\n",
    "        if self._k <= 0:\n",
    "            raise ValueError(f\"k must be greater than 0.\"\n",
    "                             f\"{self._k} received.\")\n",
    "        # sorted list of pairs.\n",
    "        coupled_pair = sort_and_couple(y_true, y_pred)\n",
    "        \n",
    "        precision = 0.0\n",
    "        \n",
    "        for idx, (label, score) in enumerate(coupled_pair):\n",
    "            \n",
    "            #if idx < 10:\n",
    "            #    print('[',label, score, ']', )\n",
    "            if idx >= self._k:\n",
    "                break\n",
    "            if label > self._threshold:\n",
    "                precision += 1.\n",
    "        return precision / self._k\n",
    "    \n",
    "    \n",
    "\"\"\"Recall for ranking.\"\"\"\n",
    "import numpy as np\n",
    "\n",
    "from matchzoo.engine.base_metric import BaseMetric, sort_and_couple\n",
    "\n",
    "\n",
    "class RecallCheck(BaseMetric):\n",
    "    \"\"\"Recall metric.\"\"\"\n",
    "\n",
    "    ALIAS = 'recall'\n",
    "\n",
    "    def __init__(self, k: int = 1, threshold: float = 0.):\n",
    "        \"\"\"\n",
    "        :class:`RecallMetric` constructor.\n",
    "        :param k: Number of results to consider.\n",
    "        :param threshold: the label threshold of relevance degree.\n",
    "        \"\"\"\n",
    "        self._k = k\n",
    "        self._threshold = threshold\n",
    "\n",
    "    def __repr__(self) -> str:\n",
    "        \"\"\":return: Formated string representation of the metric.\"\"\"\n",
    "        return f\"{self.ALIAS}@{self._k}({self._threshold})\"\n",
    "\n",
    "    def __call__(self, y_true: np.array, y_pred: np.array) -> float:\n",
    "        if self._k == 5:\n",
    "            print('number of results', y_true.shape, (y_true > self._threshold ).sum())\n",
    "        \"\"\"\n",
    "        Calculate Recall@k.\n",
    "        Example:\n",
    "            >>> y_true = [0, 0, 0, 1]\n",
    "            >>> y_pred = [0.2, 0.4, 0.3, 0.1]\n",
    "            >>> Recall(k=1)(y_true, y_pred)\n",
    "            0.0\n",
    "            >>> Recall(k=2)(y_true, y_pred)\n",
    "            0.0\n",
    "            >>> Recall(k=4)(y_true, y_pred)\n",
    "            1.0\n",
    "            >>> Recall(k=5)(y_true, y_pred)\n",
    "            1.0\n",
    "        :param y_true: The ground true label of each document.\n",
    "        :param y_pred: The predicted scores of each document.\n",
    "        :return: Recall @ k\n",
    "        :raises: ValueError: len(r) must be >= k.\n",
    "        \"\"\"\n",
    "        if self._k <= 0:\n",
    "            raise ValueError(f\"k must be greater than 0.\"\n",
    "                             f\"{self._k} received.\")\n",
    "        # sorted list of pairs.\n",
    "        coupled_pair = sort_and_couple(y_true, y_pred)\n",
    "        \n",
    "        recall = 0.0\n",
    "        rel_docs = (y_true > self._threshold ).sum() * 1.0\n",
    "        for idx, (label, score) in enumerate(coupled_pair):\n",
    "            \n",
    "            if idx < 5 and self._k == 5:\n",
    "                print('[',label, score, ']', )\n",
    "            if idx >= self._k:\n",
    "                break\n",
    "            if label > self._threshold:\n",
    "                recall += 1.\n",
    "        return recall / rel_docs"
   ]
  },
  {
   "cell_type": "code",
   "execution_count": 10,
   "metadata": {},
   "outputs": [],
   "source": [
    "\n",
    "\"\"\"Matchzoo toolkit for token embedding.\"\"\"\n",
    "\n",
    "import csv\n",
    "import typing\n",
    "\n",
    "import numpy as np\n",
    "import pandas as pd\n",
    "\n",
    "\n",
    "class Embedding(object):\n",
    "    \"\"\"\n",
    "    Embedding class.\n",
    "    Examples::\n",
    "        >>> import matchzoo as mz\n",
    "        >>> train_raw = mz.datasets.toy.load_data()\n",
    "        >>> pp = mz.preprocessors.NaivePreprocessor()\n",
    "        >>> train = pp.fit_transform(train_raw, verbose=0)\n",
    "        >>> vocab_unit = mz.build_vocab_unit(train, verbose=0)\n",
    "        >>> term_index = vocab_unit.state['term_index']\n",
    "        >>> embed_path = mz.datasets.embeddings.EMBED_RANK\n",
    "    To load from a file:\n",
    "        >>> embedding = mz.embedding.load_from_file(embed_path)\n",
    "        >>> matrix = embedding.build_matrix(term_index)\n",
    "        >>> matrix.shape[0] == len(term_index) + 1\n",
    "        True\n",
    "    To build your own:\n",
    "        >>> data = pd.DataFrame(data=[[0, 1], [2, 3]], index=['A', 'B'])\n",
    "        >>> embedding = mz.Embedding(data)\n",
    "        >>> matrix = embedding.build_matrix({'A': 2, 'B': 1})\n",
    "        >>> matrix.shape == (3, 2)\n",
    "        True\n",
    "    \"\"\"\n",
    "\n",
    "    def __init__(self, data: pd.DataFrame):\n",
    "        \"\"\"\n",
    "        Embedding.\n",
    "        :param data: DataFrame to use as term to vector mapping.\n",
    "        \"\"\"\n",
    "        self._data = data\n",
    "\n",
    "    @property\n",
    "    def input_dim(self) -> int:\n",
    "        \"\"\":return Embedding input dimension.\"\"\"\n",
    "        return self._data.shape[0]\n",
    "\n",
    "    @property\n",
    "    def output_dim(self) -> int:\n",
    "        \"\"\":return Embedding output dimension.\"\"\"\n",
    "        return self._data.shape[1]\n",
    "\n",
    "    def build_matrix(\n",
    "        self,\n",
    "        term_index: typing.Union[\n",
    "            dict, mz.preprocessors.units.Vocabulary.TermIndex],\n",
    "        initializer=lambda: np.random.uniform(-0.2, 0.2)\n",
    "    ) -> np.ndarray:\n",
    "        \"\"\"\n",
    "        Build a matrix using `term_index`.\n",
    "        :param term_index: A `dict` or `TermIndex` to build with.\n",
    "        :param initializer: A callable that returns a default value for missing\n",
    "            terms in data. (default: a random uniform distribution in range)\n",
    "            `(-0.2, 0.2)`).\n",
    "        :return: A matrix.\n",
    "        \"\"\"\n",
    "        input_dim = len(term_index) + 1\n",
    "        \n",
    "        print('Embedding to matrix, input & output', input_dim, self.output_dim)\n",
    "        \n",
    "        matrix = np.empty((input_dim, self.output_dim))\n",
    "        for index in np.ndindex(*matrix.shape):\n",
    "            matrix[index] = initializer()\n",
    "\n",
    "        #valid_keys = set(self._data.index)\n",
    "        terms_to_find = term_index.keys()\n",
    "        valid_data_frame = self._data[self._data.index[-len(self._data):].isin(terms_to_find)]\n",
    "        \n",
    "        nf_count = 0\n",
    "        total = 0\n",
    "        \n",
    "        for term, values in valid_data_frame.iterrows():\n",
    "            if total % 50000==0:\n",
    "                print('Words completed', total)\n",
    "            total +=1\n",
    "                \n",
    "            try:\n",
    "                matrix[term_index[term]] = values\n",
    "            except Exception as ex:\n",
    "                nf_count+=1\n",
    "                print('Word not found', term)\n",
    "                    \n",
    "        print('Words not found in embedding ', nf_count)\n",
    "        \n",
    "        return matrix\n",
    "\n",
    "\n",
    "def load_from_file(file_path: str, mode: str = 'word2vec') -> Embedding:\n",
    "    \"\"\"\n",
    "    Load embedding from `file_path`.\n",
    "    :param file_path: Path to file.\n",
    "    :param mode: Embedding file format mode, one of 'word2vec' or 'glove'.\n",
    "        (default: 'word2vec')\n",
    "    :return: An :class:`matchzoo.embedding.Embedding` instance.\n",
    "    \"\"\"\n",
    "    if mode == 'word2vec':\n",
    "        data = pd.read_csv(file_path,\n",
    "                           sep=\" \",\n",
    "                           index_col=0,\n",
    "                           header=None,\n",
    "                           skiprows=1)\n",
    "        print(data.head())\n",
    "    elif mode == 'glove':\n",
    "        data = pd.read_csv(file_path,\n",
    "                           sep=\" \",\n",
    "                           index_col=0,\n",
    "                           header=None,\n",
    "                           quoting=csv.QUOTE_NONE)\n",
    "    else:\n",
    "        raise TypeError(f\"{mode} is not a supported embedding type.\"\n",
    "                        f\"`word2vec` or `glove` expected.\")\n",
    "    return Embedding(data)\n",
    "\n",
    "\n",
    "\n"
   ]
  },
  {
   "cell_type": "code",
   "execution_count": 15,
   "metadata": {},
   "outputs": [
    {
     "name": "stdout",
     "output_type": "stream",
     "text": [
      "193\n"
     ]
    }
   ],
   "source": [
    "import ast\n",
    "slist = ast.literal_eval(open('msmarco_data/long_stop_words','r').read())\n",
    "\n",
    "stop_words = list( set(['are', 'get','you','dont','want','take','have','need','let','your','their','theirs',\\\n",
    "              'still','these','that','could','should', 'would', 'with','does','this','used','make',\\\n",
    "              'makes','made','takes','take','those','when','without','more','becasue','there','aren',\\\n",
    "              'keep','seem','seems','wont','shouldn','shouldnt','only','than','know','every','also',\\\n",
    "              'brand','become','most','other','others','meant','thing','things','happens','anything',\\\n",
    "              'gets','sets','both','bring','then','goes','some','someone','see','article','redirect',\\\n",
    "              'sent','into','about','what','where','give','going','like','look','looks','having','other',\\\n",
    "              'gives','give','given','uses','used','through','though','very','doesn','many','even','mine',\\\n",
    "              'myself','always', 'self','currently','along','else','comes','come','came','likes','like',\\\n",
    "              'because','can','the', 'an', 'to', 'and', 'from', 'for', 'we', 'you', 'i', 'so','such',\\\n",
    "               'a', 'at', 'b', 'be', 'in', 'of', 'on', 'was', 'is','been','while','will','they','them']) | \\\n",
    "                set(slist))\n",
    "print(len(stop_words))"
   ]
  },
  {
   "cell_type": "code",
   "execution_count": 20,
   "metadata": {},
   "outputs": [
    {
     "name": "stdout",
     "output_type": "stream",
     "text": [
      "collection.tsv\n",
      "qrels.dev.small.tsv\n",
      "qrels.train.tsv\n",
      "queries.dev.small.tsv\n",
      "queries.dev.tsv\n",
      "queries.eval.small.tsv\n",
      "queries.eval.tsv\n",
      "queries.train.tsv\n"
     ]
    }
   ],
   "source": [
    "! tar -xvzf msmarco_data/collectionandqueries.tar.gz"
   ]
  },
  {
   "cell_type": "code",
   "execution_count": 21,
   "metadata": {},
   "outputs": [
    {
     "name": "stdout",
     "output_type": "stream",
     "text": [
      "0\tThe presence of communication amid scientific minds was equally important to the success of the Manhattan Project as scientific intellect was. The only cloud hanging over the impressive achievement of the atomic researchers and engineers is what their success truly meant; hundreds of thousands of innocent lives obliterated.\r\n"
     ]
    }
   ],
   "source": [
    "! head -n 1 collection.tsv"
   ]
  },
  {
   "cell_type": "code",
   "execution_count": 25,
   "metadata": {},
   "outputs": [
    {
     "name": "stdout",
     "output_type": "stream",
     "text": [
      "1185869\t0\t0\t1\r",
      "\r\n",
      "1185868\t0\t16\t1\r",
      "\r\n",
      "597651\t0\t49\t1\r",
      "\r\n",
      "403613\t0\t60\t1\r",
      "\r\n",
      "1183785\t0\t389\t1\r",
      "\r\n"
     ]
    }
   ],
   "source": [
    "!head -n 5 qrels.train.tsv"
   ]
  },
  {
   "cell_type": "code",
   "execution_count": 26,
   "metadata": {},
   "outputs": [
    {
     "name": "stdout",
     "output_type": "stream",
     "text": [
      "121352\tdefine extreme\r\n",
      "634306\twhat does chattel mean on credit history\r\n",
      "920825\twhat was the great leap forward brainly\r\n",
      "510633\ttattoo fixers how much does it cost\r\n",
      "737889\twhat is decentralization process.\r\n"
     ]
    }
   ],
   "source": [
    "! head -n 5 queries.train.tsv"
   ]
  },
  {
   "cell_type": "markdown",
   "metadata": {},
   "source": [
    "##### Define paths"
   ]
  },
  {
   "cell_type": "code",
   "execution_count": 34,
   "metadata": {},
   "outputs": [],
   "source": [
    "path='/home/manishav/irexplain/src/main/python/deep_explain/msmarco_data/'\n",
    "collection_path = path+ 'collection/'\n",
    "embedding_path =  path+ 'embedding/'"
   ]
  },
  {
   "cell_type": "markdown",
   "metadata": {},
   "source": [
    "#### Load queries"
   ]
  },
  {
   "cell_type": "code",
   "execution_count": 58,
   "metadata": {},
   "outputs": [],
   "source": [
    "import re\n",
    "query_list = []\n",
    "match_words = r'define|what|when'\n",
    "\n",
    "for line in open(collection_path+'queries.train.tsv','r'):\n",
    "    split = line.strip().split('\\t')\n",
    "    \n",
    "    match = re.search(match_words,split[1])\n",
    "    if not match:\n",
    "        query_list.append({'qid':split[0], 'query': split[1].strip()})"
   ]
  },
  {
   "cell_type": "code",
   "execution_count": 59,
   "metadata": {},
   "outputs": [],
   "source": [
    "query_frame = pd.DataFrame(query_list)"
   ]
  },
  {
   "cell_type": "code",
   "execution_count": 60,
   "metadata": {},
   "outputs": [
    {
     "data": {
      "text/html": [
       "<div>\n",
       "<style scoped>\n",
       "    .dataframe tbody tr th:only-of-type {\n",
       "        vertical-align: middle;\n",
       "    }\n",
       "\n",
       "    .dataframe tbody tr th {\n",
       "        vertical-align: top;\n",
       "    }\n",
       "\n",
       "    .dataframe thead th {\n",
       "        text-align: right;\n",
       "    }\n",
       "</style>\n",
       "<table border=\"1\" class=\"dataframe\">\n",
       "  <thead>\n",
       "    <tr style=\"text-align: right;\">\n",
       "      <th></th>\n",
       "      <th>qid</th>\n",
       "      <th>query</th>\n",
       "    </tr>\n",
       "  </thead>\n",
       "  <tbody>\n",
       "    <tr>\n",
       "      <th>0</th>\n",
       "      <td>510633</td>\n",
       "      <td>tattoo fixers how much does it cost</td>\n",
       "    </tr>\n",
       "    <tr>\n",
       "      <th>1</th>\n",
       "      <td>278900</td>\n",
       "      <td>how many cars enter the la jolla concours d' e...</td>\n",
       "    </tr>\n",
       "    <tr>\n",
       "      <th>2</th>\n",
       "      <td>303205</td>\n",
       "      <td>how much can i contribute to nondeductible ira</td>\n",
       "    </tr>\n",
       "    <tr>\n",
       "      <th>3</th>\n",
       "      <td>492875</td>\n",
       "      <td>sanitizer temperature</td>\n",
       "    </tr>\n",
       "    <tr>\n",
       "      <th>4</th>\n",
       "      <td>54528</td>\n",
       "      <td>blood clots in urine after menopause</td>\n",
       "    </tr>\n",
       "  </tbody>\n",
       "</table>\n",
       "</div>"
      ],
      "text/plain": [
       "      qid                                              query\n",
       "0  510633                tattoo fixers how much does it cost\n",
       "1  278900  how many cars enter the la jolla concours d' e...\n",
       "2  303205     how much can i contribute to nondeductible ira\n",
       "3  492875                              sanitizer temperature\n",
       "4   54528               blood clots in urine after menopause"
      ]
     },
     "execution_count": 60,
     "metadata": {},
     "output_type": "execute_result"
    }
   ],
   "source": [
    "query_frame.head()"
   ]
  },
  {
   "cell_type": "code",
   "execution_count": 61,
   "metadata": {},
   "outputs": [
    {
     "data": {
      "text/plain": [
       "(478643, 2)"
      ]
     },
     "execution_count": 61,
     "metadata": {},
     "output_type": "execute_result"
    }
   ],
   "source": [
    "query_frame.shape"
   ]
  },
  {
   "cell_type": "markdown",
   "metadata": {},
   "source": [
    "#### load qrels"
   ]
  },
  {
   "cell_type": "code",
   "execution_count": 47,
   "metadata": {},
   "outputs": [],
   "source": [
    "qrels = []\n",
    "for line in open(collection_path+'qrels.train.tsv','r'):\n",
    "    split = line.strip().split('\\t')\n",
    "    qrels.append({'qid':split[0], 'pid': split[2], 'rel':split[3] })\n",
    "qrel_frame = pd.DataFrame(qrels) "
   ]
  },
  {
   "cell_type": "code",
   "execution_count": 48,
   "metadata": {},
   "outputs": [
    {
     "data": {
      "text/html": [
       "<div>\n",
       "<style scoped>\n",
       "    .dataframe tbody tr th:only-of-type {\n",
       "        vertical-align: middle;\n",
       "    }\n",
       "\n",
       "    .dataframe tbody tr th {\n",
       "        vertical-align: top;\n",
       "    }\n",
       "\n",
       "    .dataframe thead th {\n",
       "        text-align: right;\n",
       "    }\n",
       "</style>\n",
       "<table border=\"1\" class=\"dataframe\">\n",
       "  <thead>\n",
       "    <tr style=\"text-align: right;\">\n",
       "      <th></th>\n",
       "      <th>qid</th>\n",
       "      <th>pid</th>\n",
       "      <th>rel</th>\n",
       "    </tr>\n",
       "  </thead>\n",
       "  <tbody>\n",
       "    <tr>\n",
       "      <th>0</th>\n",
       "      <td>1185869</td>\n",
       "      <td>0</td>\n",
       "      <td>1</td>\n",
       "    </tr>\n",
       "    <tr>\n",
       "      <th>1</th>\n",
       "      <td>1185868</td>\n",
       "      <td>16</td>\n",
       "      <td>1</td>\n",
       "    </tr>\n",
       "    <tr>\n",
       "      <th>2</th>\n",
       "      <td>597651</td>\n",
       "      <td>49</td>\n",
       "      <td>1</td>\n",
       "    </tr>\n",
       "    <tr>\n",
       "      <th>3</th>\n",
       "      <td>403613</td>\n",
       "      <td>60</td>\n",
       "      <td>1</td>\n",
       "    </tr>\n",
       "    <tr>\n",
       "      <th>4</th>\n",
       "      <td>1183785</td>\n",
       "      <td>389</td>\n",
       "      <td>1</td>\n",
       "    </tr>\n",
       "  </tbody>\n",
       "</table>\n",
       "</div>"
      ],
      "text/plain": [
       "       qid  pid rel\n",
       "0  1185869    0   1\n",
       "1  1185868   16   1\n",
       "2   597651   49   1\n",
       "3   403613   60   1\n",
       "4  1183785  389   1"
      ]
     },
     "execution_count": 48,
     "metadata": {},
     "output_type": "execute_result"
    }
   ],
   "source": [
    "qrel_frame.head()"
   ]
  },
  {
   "cell_type": "code",
   "execution_count": 50,
   "metadata": {},
   "outputs": [],
   "source": [
    "qid_pid_rel_frame = pd.merge(query_frame, qrel_frame, left_on='qid', right_on='qid', suffixes=('', '_y'))"
   ]
  },
  {
   "cell_type": "code",
   "execution_count": 52,
   "metadata": {},
   "outputs": [
    {
     "data": {
      "text/plain": [
       "(295737, 4)"
      ]
     },
     "execution_count": 52,
     "metadata": {},
     "output_type": "execute_result"
    }
   ],
   "source": [
    "qid_pid_rel_frame.shape"
   ]
  },
  {
   "cell_type": "code",
   "execution_count": 55,
   "metadata": {},
   "outputs": [
    {
     "data": {
      "text/plain": [
       "Index(['qid', 'query', 'pid', 'rel'], dtype='object')"
      ]
     },
     "execution_count": 55,
     "metadata": {},
     "output_type": "execute_result"
    }
   ],
   "source": [
    "qid_pid_rel_frame.columns"
   ]
  },
  {
   "cell_type": "code",
   "execution_count": 56,
   "metadata": {},
   "outputs": [
    {
     "data": {
      "text/plain": [
       "(295737, 3)"
      ]
     },
     "execution_count": 56,
     "metadata": {},
     "output_type": "execute_result"
    }
   ],
   "source": [
    "qrel_frame[qrel_frame['qid'].isin(query_frame['qid'].tolist())].shape"
   ]
  },
  {
   "cell_type": "markdown",
   "metadata": {},
   "source": [
    "##### Load documents "
   ]
  },
  {
   "cell_type": "code",
   "execution_count": 62,
   "metadata": {},
   "outputs": [],
   "source": [
    "pid_set = set(qid_pid_rel_frame['pid'].tolist())\n",
    "\n",
    "paragraphs = []\n",
    "for line in open(collection_path+'collection.tsv','r'):\n",
    "    split = line.strip().split('\\t')\n",
    "    if split[0] in pid_set:\n",
    "        paragraphs.append({'pid': split[0],\\\n",
    "                           'paragraph': split[1].strip()})\n",
    "        \n",
    "para_frame = pd.DataFrame(paragraphs) "
   ]
  },
  {
   "cell_type": "code",
   "execution_count": 63,
   "metadata": {},
   "outputs": [
    {
     "data": {
      "text/plain": [
       "(288274, 2)"
      ]
     },
     "execution_count": 63,
     "metadata": {},
     "output_type": "execute_result"
    }
   ],
   "source": [
    "para_frame.shape"
   ]
  },
  {
   "cell_type": "code",
   "execution_count": 64,
   "metadata": {},
   "outputs": [],
   "source": [
    "qid_pid_para_rel_frame = pd.merge(qid_pid_rel_frame, para_frame, left_on='pid', right_on='pid', suffixes=('', '_y'))"
   ]
  },
  {
   "cell_type": "code",
   "execution_count": 65,
   "metadata": {},
   "outputs": [
    {
     "data": {
      "text/html": [
       "<div>\n",
       "<style scoped>\n",
       "    .dataframe tbody tr th:only-of-type {\n",
       "        vertical-align: middle;\n",
       "    }\n",
       "\n",
       "    .dataframe tbody tr th {\n",
       "        vertical-align: top;\n",
       "    }\n",
       "\n",
       "    .dataframe thead th {\n",
       "        text-align: right;\n",
       "    }\n",
       "</style>\n",
       "<table border=\"1\" class=\"dataframe\">\n",
       "  <thead>\n",
       "    <tr style=\"text-align: right;\">\n",
       "      <th></th>\n",
       "      <th>qid</th>\n",
       "      <th>query</th>\n",
       "      <th>pid</th>\n",
       "      <th>rel</th>\n",
       "      <th>paragraph</th>\n",
       "    </tr>\n",
       "  </thead>\n",
       "  <tbody>\n",
       "    <tr>\n",
       "      <th>0</th>\n",
       "      <td>510633</td>\n",
       "      <td>tattoo fixers how much does it cost</td>\n",
       "      <td>1879754</td>\n",
       "      <td>1</td>\n",
       "      <td>1 Most tattoo artists charge an hourly rate th...</td>\n",
       "    </tr>\n",
       "    <tr>\n",
       "      <th>1</th>\n",
       "      <td>303205</td>\n",
       "      <td>how much can i contribute to nondeductible ira</td>\n",
       "      <td>6487240</td>\n",
       "      <td>1</td>\n",
       "      <td>Nondeductible IRA Contributions. For a traditi...</td>\n",
       "    </tr>\n",
       "    <tr>\n",
       "      <th>2</th>\n",
       "      <td>492875</td>\n",
       "      <td>sanitizer temperature</td>\n",
       "      <td>1147449</td>\n",
       "      <td>1</td>\n",
       "      <td>Chlorine sanitizing solutions should be at a m...</td>\n",
       "    </tr>\n",
       "    <tr>\n",
       "      <th>3</th>\n",
       "      <td>54528</td>\n",
       "      <td>blood clots in urine after menopause</td>\n",
       "      <td>2984158</td>\n",
       "      <td>1</td>\n",
       "      <td>WebMD Symptom Checker helps you find the most ...</td>\n",
       "    </tr>\n",
       "    <tr>\n",
       "      <th>4</th>\n",
       "      <td>507001</td>\n",
       "      <td>symptoms of an enlarged heart in dogs</td>\n",
       "      <td>556790</td>\n",
       "      <td>1</td>\n",
       "      <td>A canine enlarged heart is a literal stage of ...</td>\n",
       "    </tr>\n",
       "  </tbody>\n",
       "</table>\n",
       "</div>"
      ],
      "text/plain": [
       "      qid                                           query      pid rel  \\\n",
       "0  510633             tattoo fixers how much does it cost  1879754   1   \n",
       "1  303205  how much can i contribute to nondeductible ira  6487240   1   \n",
       "2  492875                           sanitizer temperature  1147449   1   \n",
       "3   54528            blood clots in urine after menopause  2984158   1   \n",
       "4  507001           symptoms of an enlarged heart in dogs   556790   1   \n",
       "\n",
       "                                           paragraph  \n",
       "0  1 Most tattoo artists charge an hourly rate th...  \n",
       "1  Nondeductible IRA Contributions. For a traditi...  \n",
       "2  Chlorine sanitizing solutions should be at a m...  \n",
       "3  WebMD Symptom Checker helps you find the most ...  \n",
       "4  A canine enlarged heart is a literal stage of ...  "
      ]
     },
     "execution_count": 65,
     "metadata": {},
     "output_type": "execute_result"
    }
   ],
   "source": [
    "qid_pid_para_rel_frame.head()"
   ]
  },
  {
   "cell_type": "code",
   "execution_count": 66,
   "metadata": {},
   "outputs": [],
   "source": [
    "del(para_frame)"
   ]
  },
  {
   "cell_type": "code",
   "execution_count": 70,
   "metadata": {},
   "outputs": [
    {
     "data": {
      "text/plain": [
       "(295737, 5)"
      ]
     },
     "execution_count": 70,
     "metadata": {},
     "output_type": "execute_result"
    }
   ],
   "source": [
    "qid_pid_para_rel_frame[qid_pid_para_rel_frame['rel'] == '1'].shape"
   ]
  },
  {
   "cell_type": "markdown",
   "metadata": {},
   "source": [
    "#### Prepare train and test_frame for the model training"
   ]
  },
  {
   "cell_type": "code",
   "execution_count": 80,
   "metadata": {},
   "outputs": [],
   "source": [
    "from sklearn.utils import shuffle\n",
    "\n",
    "final_train_frame = shuffle(qid_pid_para_rel_frame[['query','paragraph','rel']].sample(50000))"
   ]
  },
  {
   "cell_type": "code",
   "execution_count": 83,
   "metadata": {},
   "outputs": [],
   "source": [
    "final_train_frame = final_train_frame.reset_index(drop=True)\n",
    "final_train_frame.columns=['text_left','text_right','label']"
   ]
  },
  {
   "cell_type": "code",
   "execution_count": 84,
   "metadata": {},
   "outputs": [
    {
     "data": {
      "text/html": [
       "<div>\n",
       "<style scoped>\n",
       "    .dataframe tbody tr th:only-of-type {\n",
       "        vertical-align: middle;\n",
       "    }\n",
       "\n",
       "    .dataframe tbody tr th {\n",
       "        vertical-align: top;\n",
       "    }\n",
       "\n",
       "    .dataframe thead th {\n",
       "        text-align: right;\n",
       "    }\n",
       "</style>\n",
       "<table border=\"1\" class=\"dataframe\">\n",
       "  <thead>\n",
       "    <tr style=\"text-align: right;\">\n",
       "      <th></th>\n",
       "      <th>text_left</th>\n",
       "      <th>text_right</th>\n",
       "      <th>label</th>\n",
       "    </tr>\n",
       "  </thead>\n",
       "  <tbody>\n",
       "    <tr>\n",
       "      <th>0</th>\n",
       "      <td>how long does a dollar bill remain in circulation</td>\n",
       "      <td>The study cited a comparison between the lifes...</td>\n",
       "      <td>1</td>\n",
       "    </tr>\n",
       "    <tr>\n",
       "      <th>1</th>\n",
       "      <td>where are oil refineries located</td>\n",
       "      <td>Currently, the world's largest oil refinery is...</td>\n",
       "      <td>1</td>\n",
       "    </tr>\n",
       "    <tr>\n",
       "      <th>2</th>\n",
       "      <td>who plays caleb brewster in turn</td>\n",
       "      <td>He is joined by Jamie Bell, who plays the role...</td>\n",
       "      <td>1</td>\n",
       "    </tr>\n",
       "    <tr>\n",
       "      <th>3</th>\n",
       "      <td>weather in makkah</td>\n",
       "      <td>The following are extreme weather events in Me...</td>\n",
       "      <td>1</td>\n",
       "    </tr>\n",
       "    <tr>\n",
       "      <th>4</th>\n",
       "      <td>is project manager salary</td>\n",
       "      <td>The average salary for project manager jobs is...</td>\n",
       "      <td>1</td>\n",
       "    </tr>\n",
       "  </tbody>\n",
       "</table>\n",
       "</div>"
      ],
      "text/plain": [
       "                                           text_left  \\\n",
       "0  how long does a dollar bill remain in circulation   \n",
       "1                   where are oil refineries located   \n",
       "2                   who plays caleb brewster in turn   \n",
       "3                                  weather in makkah   \n",
       "4                          is project manager salary   \n",
       "\n",
       "                                          text_right label  \n",
       "0  The study cited a comparison between the lifes...     1  \n",
       "1  Currently, the world's largest oil refinery is...     1  \n",
       "2  He is joined by Jamie Bell, who plays the role...     1  \n",
       "3  The following are extreme weather events in Me...     1  \n",
       "4  The average salary for project manager jobs is...     1  "
      ]
     },
     "execution_count": 84,
     "metadata": {},
     "output_type": "execute_result"
    }
   ],
   "source": [
    "final_train_frame.head()"
   ]
  },
  {
   "cell_type": "code",
   "execution_count": 85,
   "metadata": {},
   "outputs": [],
   "source": [
    "### sample queries for test (should not overlap with train)\n",
    "train_query_list = final_train_frame['text_left'].tolist()\n",
    "final_test_frame = shuffle(qid_pid_para_rel_frame[~qid_pid_para_rel_frame['query'].isin(train_query_list)]\\\n",
    "                            [['query','paragraph','rel']].sample(5000))"
   ]
  },
  {
   "cell_type": "code",
   "execution_count": 87,
   "metadata": {},
   "outputs": [
    {
     "data": {
      "text/html": [
       "<div>\n",
       "<style scoped>\n",
       "    .dataframe tbody tr th:only-of-type {\n",
       "        vertical-align: middle;\n",
       "    }\n",
       "\n",
       "    .dataframe tbody tr th {\n",
       "        vertical-align: top;\n",
       "    }\n",
       "\n",
       "    .dataframe thead th {\n",
       "        text-align: right;\n",
       "    }\n",
       "</style>\n",
       "<table border=\"1\" class=\"dataframe\">\n",
       "  <thead>\n",
       "    <tr style=\"text-align: right;\">\n",
       "      <th></th>\n",
       "      <th>text_left</th>\n",
       "      <th>text_right</th>\n",
       "      <th>label</th>\n",
       "    </tr>\n",
       "  </thead>\n",
       "  <tbody>\n",
       "    <tr>\n",
       "      <th>0</th>\n",
       "      <td>menopause dryness symptoms</td>\n",
       "      <td>Women who need relief from other significant s...</td>\n",
       "      <td>1</td>\n",
       "    </tr>\n",
       "    <tr>\n",
       "      <th>1</th>\n",
       "      <td>how much does brain mri mra</td>\n",
       "      <td>Average Cost of Brain MRI The average cost of ...</td>\n",
       "      <td>1</td>\n",
       "    </tr>\n",
       "    <tr>\n",
       "      <th>2</th>\n",
       "      <td>windows installed cost</td>\n",
       "      <td>The cost to Install Replacement Windows starts...</td>\n",
       "      <td>1</td>\n",
       "    </tr>\n",
       "    <tr>\n",
       "      <th>3</th>\n",
       "      <td>distance raleigh to greensboro</td>\n",
       "      <td>Driving distance from Raleigh, NC to Greensbor...</td>\n",
       "      <td>1</td>\n",
       "    </tr>\n",
       "    <tr>\n",
       "      <th>4</th>\n",
       "      <td>how long does it take for my package to arrive...</td>\n",
       "      <td>Using First Class Mail International, deliveri...</td>\n",
       "      <td>1</td>\n",
       "    </tr>\n",
       "  </tbody>\n",
       "</table>\n",
       "</div>"
      ],
      "text/plain": [
       "                                           text_left  \\\n",
       "0                         menopause dryness symptoms   \n",
       "1                        how much does brain mri mra   \n",
       "2                             windows installed cost   \n",
       "3                     distance raleigh to greensboro   \n",
       "4  how long does it take for my package to arrive...   \n",
       "\n",
       "                                          text_right label  \n",
       "0  Women who need relief from other significant s...     1  \n",
       "1  Average Cost of Brain MRI The average cost of ...     1  \n",
       "2  The cost to Install Replacement Windows starts...     1  \n",
       "3  Driving distance from Raleigh, NC to Greensbor...     1  \n",
       "4  Using First Class Mail International, deliveri...     1  "
      ]
     },
     "execution_count": 87,
     "metadata": {},
     "output_type": "execute_result"
    }
   ],
   "source": [
    "final_test_frame = final_test_frame.reset_index(drop=True)\n",
    "final_test_frame.columns=['text_left','text_right','label']\n",
    "final_test_frame.head()"
   ]
  },
  {
   "cell_type": "code",
   "execution_count": 88,
   "metadata": {},
   "outputs": [],
   "source": [
    "train_raw =  mz.pack(final_train_frame)# mz.datasets.toy.load_data(stage='train', task=task)\n",
    "test_raw =  mz.pack(final_test_frame)#mz.datasets.toy.load_data(stage='test', task=task)"
   ]
  },
  {
   "cell_type": "code",
   "execution_count": 89,
   "metadata": {},
   "outputs": [
    {
     "data": {
      "text/html": [
       "<div>\n",
       "<style scoped>\n",
       "    .dataframe tbody tr th:only-of-type {\n",
       "        vertical-align: middle;\n",
       "    }\n",
       "\n",
       "    .dataframe tbody tr th {\n",
       "        vertical-align: top;\n",
       "    }\n",
       "\n",
       "    .dataframe thead th {\n",
       "        text-align: right;\n",
       "    }\n",
       "</style>\n",
       "<table border=\"1\" class=\"dataframe\">\n",
       "  <thead>\n",
       "    <tr style=\"text-align: right;\">\n",
       "      <th></th>\n",
       "      <th>text_left</th>\n",
       "    </tr>\n",
       "    <tr>\n",
       "      <th>id_left</th>\n",
       "      <th></th>\n",
       "    </tr>\n",
       "  </thead>\n",
       "  <tbody>\n",
       "    <tr>\n",
       "      <th>L-0</th>\n",
       "      <td>how long does a dollar bill remain in circulation</td>\n",
       "    </tr>\n",
       "    <tr>\n",
       "      <th>L-1</th>\n",
       "      <td>where are oil refineries located</td>\n",
       "    </tr>\n",
       "    <tr>\n",
       "      <th>L-2</th>\n",
       "      <td>who plays caleb brewster in turn</td>\n",
       "    </tr>\n",
       "    <tr>\n",
       "      <th>L-3</th>\n",
       "      <td>weather in makkah</td>\n",
       "    </tr>\n",
       "    <tr>\n",
       "      <th>L-4</th>\n",
       "      <td>is project manager salary</td>\n",
       "    </tr>\n",
       "  </tbody>\n",
       "</table>\n",
       "</div>"
      ],
      "text/plain": [
       "                                                 text_left\n",
       "id_left                                                   \n",
       "L-0      how long does a dollar bill remain in circulation\n",
       "L-1                       where are oil refineries located\n",
       "L-2                       who plays caleb brewster in turn\n",
       "L-3                                      weather in makkah\n",
       "L-4                              is project manager salary"
      ]
     },
     "execution_count": 89,
     "metadata": {},
     "output_type": "execute_result"
    }
   ],
   "source": [
    "train_raw.left.head()"
   ]
  },
  {
   "cell_type": "markdown",
   "metadata": {},
   "source": [
    "#### Preprocess the text"
   ]
  },
  {
   "cell_type": "code",
   "execution_count": 99,
   "metadata": {},
   "outputs": [],
   "source": [
    "preprocessor = mz.preprocessors.BasicPreprocessor(fixed_length_left=15,\n",
    "             fixed_length_right=30,\n",
    "             filter_mode='idf',\n",
    "             filter_low_freq=2,\n",
    "             filter_high_freq=1000, remove_stop_words=True)\n"
   ]
  },
  {
   "cell_type": "code",
   "execution_count": null,
   "metadata": {
    "scrolled": false
   },
   "outputs": [],
   "source": [
    "preprocessor.fit(train_raw)"
   ]
  },
  {
   "cell_type": "code",
   "execution_count": 101,
   "metadata": {},
   "outputs": [
    {
     "data": {
      "text/plain": [
       "123332"
      ]
     },
     "execution_count": 101,
     "metadata": {},
     "output_type": "execute_result"
    }
   ],
   "source": [
    "len(preprocessor.context['vocab_unit'].state['term_index'])"
   ]
  },
  {
   "cell_type": "code",
   "execution_count": 102,
   "metadata": {},
   "outputs": [],
   "source": [
    "train_processed = preprocessor.transform(train_raw,verbose=0)\n",
    "test_processed = preprocessor.transform(test_raw,verbose=0)"
   ]
  },
  {
   "cell_type": "code",
   "execution_count": 103,
   "metadata": {},
   "outputs": [
    {
     "name": "stdout",
     "output_type": "stream",
     "text": [
      "Orig Text: [64792, 50115, 114579, 80830, 68510, 0, 0, 0, 0, 0, 0, 0, 0, 0, 0]\n",
      "Transformed Indices: [64792, 50115, 114579, 80830, 68510, 0, 0, 0, 0, 0, 0, 0, 0, 0, 0]\n",
      "Transformed Indices Meaning: long_dollar_bill_remain_circulation_<PAD>_<PAD>_<PAD>_<PAD>_<PAD>_<PAD>_<PAD>_<PAD>_<PAD>_<PAD>\n"
     ]
    }
   ],
   "source": [
    "vocab_unit = preprocessor.context['vocab_unit']\n",
    "print('Orig Text:', train_processed.left.loc['L-0']['text_left'])\n",
    "sequence = train_processed.left.loc['L-0']['text_left']\n",
    "print('Transformed Indices:', sequence)\n",
    "print('Transformed Indices Meaning:',\n",
    "      '_'.join([vocab_unit.state['index_term'][i] for i in sequence]))"
   ]
  },
  {
   "cell_type": "markdown",
   "metadata": {},
   "source": [
    "##### Define the ranking task"
   ]
  },
  {
   "cell_type": "code",
   "execution_count": 116,
   "metadata": {},
   "outputs": [
    {
     "name": "stdout",
     "output_type": "stream",
     "text": [
      "Ranking Task\n"
     ]
    }
   ],
   "source": [
    "\n",
    "task = mz.tasks.Ranking()\n",
    "task.metrics = [PrecisionCheck(k=3, threshold=0),\n",
    "    PrecisionCheck(k=5, threshold=0),\n",
    "    RecallCheck(k=3, threshold=0),\n",
    "    RecallCheck(k=5, threshold=0),\n",
    "    mz.metrics.NormalizedDiscountedCumulativeGain(k=3, threshold=0),\n",
    "    mz.metrics.NormalizedDiscountedCumulativeGain(k=5, threshold=0),\n",
    "]\n",
    "print(task)"
   ]
  },
  {
   "cell_type": "code",
   "execution_count": 110,
   "metadata": {},
   "outputs": [],
   "source": [
    "pred_x, pred_y = test_processed[:].unpack()\n",
    "evaluate = mz.callbacks.EvaluateAllMetrics(model, x=pred_x, y=pred_y, batch_size=len(pred_x))"
   ]
  },
  {
   "cell_type": "code",
   "execution_count": null,
   "metadata": {},
   "outputs": [],
   "source": [
    "evaluate"
   ]
  },
  {
   "cell_type": "code",
   "execution_count": 114,
   "metadata": {},
   "outputs": [
    {
     "name": "stdout",
     "output_type": "stream",
     "text": [
      "glove.6B.100d.txt  glove.6B.300d.txt  glove.6B.zip\r\n",
      "glove.6B.200d.txt  glove.6B.50d.txt\r\n"
     ]
    }
   ],
   "source": [
    "! ls {embedding_path}"
   ]
  },
  {
   "cell_type": "code",
   "execution_count": 115,
   "metadata": {},
   "outputs": [],
   "source": [
    "#train_generator = mz.PairDataGenerator(train_processed, num_dup=1, num_neg=4, batch_size=32, shuffle=True)\n",
    "#len(train_generator)\n",
    "word_embeddings = load_from_file(embedding_path+'glove.6B.50d.txt', mode= 'glove')"
   ]
  },
  {
   "cell_type": "code",
   "execution_count": null,
   "metadata": {},
   "outputs": [],
   "source": [
    "#history = model.fit_generator(train_generator, epochs=20, callbacks=[evaluate], workers=5, use_multiprocessing=False)"
   ]
  },
  {
   "cell_type": "code",
   "execution_count": 119,
   "metadata": {},
   "outputs": [
    {
     "name": "stdout",
     "output_type": "stream",
     "text": [
      "Model param model_class                   <class 'matchzoo.models.drmmtks.DRMMTKS'>\n",
      "input_shapes                  [(15,), (30,)]\n",
      "task                          Ranking Task\n",
      "optimizer                     adadelta\n",
      "with_embedding                True\n",
      "embedding_input_dim           123332\n",
      "embedding_output_dim          50\n",
      "embedding_trainable           True\n",
      "with_multi_layer_perceptron   True\n",
      "mlp_num_units                 20\n",
      "mlp_num_layers                2\n",
      "mlp_num_fan_out               10\n",
      "mlp_activation_func           tanh\n",
      "mask_value                    -1\n",
      "top_k                         10\n",
      "Model complete True\n",
      "Model: \"model_3\"\n",
      "__________________________________________________________________________________________________\n",
      "Layer (type)                    Output Shape         Param #     Connected to                     \n",
      "==================================================================================================\n",
      "text_left (InputLayer)          (None, 15)           0                                            \n",
      "__________________________________________________________________________________________________\n",
      "text_right (InputLayer)         (None, 30)           0                                            \n",
      "__________________________________________________________________________________________________\n",
      "embedding (Embedding)           multiple             6166600     text_left[0][0]                  \n",
      "                                                                 text_right[0][0]                 \n",
      "__________________________________________________________________________________________________\n",
      "dot_3 (Dot)                     (None, 15, 30)       0           embedding[0][0]                  \n",
      "                                                                 embedding[1][0]                  \n",
      "__________________________________________________________________________________________________\n",
      "lambda_1 (Lambda)               (None, 15, 10)       0           dot_3[0][0]                      \n",
      "__________________________________________________________________________________________________\n",
      "dense_19 (Dense)                (None, 15, 1)        50          embedding[0][0]                  \n",
      "__________________________________________________________________________________________________\n",
      "dense_20 (Dense)                (None, 15, 20)       220         lambda_1[0][0]                   \n",
      "__________________________________________________________________________________________________\n",
      "attention_mask (Lambda)         (None, 15, 1)        0           dense_19[0][0]                   \n",
      "__________________________________________________________________________________________________\n",
      "dense_21 (Dense)                (None, 15, 20)       420         dense_20[0][0]                   \n",
      "__________________________________________________________________________________________________\n",
      "attention_probs (Lambda)        (None, 15, 1)        0           attention_mask[0][0]             \n",
      "__________________________________________________________________________________________________\n",
      "dense_22 (Dense)                (None, 15, 10)       210         dense_21[0][0]                   \n",
      "__________________________________________________________________________________________________\n",
      "dot_4 (Dot)                     (None, 1, 10)        0           attention_probs[0][0]            \n",
      "                                                                 dense_22[0][0]                   \n",
      "__________________________________________________________________________________________________\n",
      "flatten_1 (Flatten)             (None, 10)           0           dot_4[0][0]                      \n",
      "__________________________________________________________________________________________________\n",
      "dense_23 (Dense)                (None, 1)            11          flatten_1[0][0]                  \n",
      "==================================================================================================\n",
      "Total params: 6,167,511\n",
      "Trainable params: 6,167,511\n",
      "Non-trainable params: 0\n",
      "__________________________________________________________________________________________________\n"
     ]
    }
   ],
   "source": [
    "model = mz.models.DRMMTKS()\n",
    "model.params['task'] = task\n",
    "model.params['embedding_input_dim'] =  len(preprocessor.context['vocab_unit'].state['term_index']) +1 \n",
    "model.params['embedding_output_dim'] = word_embeddings.output_dim\n",
    "#model.params['embedding_output_dim'] = 11\n",
    "\n",
    "model.params['top_k'] = 10\n",
    "model.params['mlp_num_layers'] = num_layers\n",
    "model.params['mlp_num_units'] = 20\n",
    "model.params['mlp_num_fan_out'] = 10\n",
    "model.params['mlp_activation_func'] = 'tanh'\n",
    "model.params['optimizer'] = 'adadelta'\n",
    "#model.params['mlp_num_units'] = mlp_units\n",
    "\n",
    "model.params['embedding_trainable'] = True\n",
    "\n",
    "model.guess_and_fill_missing_params(verbose=1)\n",
    "\n",
    "model.params.update(preprocessor.context)\n",
    "print('Model param',model.params)\n",
    "\n",
    "model.build()\n",
    "#model.load_embedding_matrix(embedding_matrix)\n",
    "model.compile()\n",
    "print('Model complete',model.params.completed())\n",
    "model.backend.summary()"
   ]
  },
  {
   "cell_type": "code",
   "execution_count": 120,
   "metadata": {},
   "outputs": [],
   "source": [
    "x, y = train_processed.unpack()\n",
    "test_x, test_y = test_processed.unpack()"
   ]
  },
  {
   "cell_type": "code",
   "execution_count": 121,
   "metadata": {},
   "outputs": [
    {
     "name": "stderr",
     "output_type": "stream",
     "text": [
      "/home/y/var/python36/lib/python3.6/site-packages/tensorflow_core/python/framework/indexed_slices.py:424: UserWarning: Converting sparse IndexedSlices to a dense Tensor of unknown shape. This may consume a large amount of memory.\n",
      "  \"Converting sparse IndexedSlices to a dense Tensor of unknown shape. \"\n"
     ]
    },
    {
     "name": "stdout",
     "output_type": "stream",
     "text": [
      "Epoch 1/7\n",
      "50000/50000 [==============================] - 9s 179us/step - loss: 0.1140\n",
      "Epoch 2/7\n",
      "50000/50000 [==============================] - 9s 173us/step - loss: 0.0062\n",
      "Epoch 3/7\n",
      "50000/50000 [==============================] - 8s 164us/step - loss: 0.0031\n",
      "Epoch 4/7\n",
      "50000/50000 [==============================] - 8s 160us/step - loss: 0.0033\n",
      "Epoch 5/7\n",
      "50000/50000 [==============================] - 8s 165us/step - loss: 0.0018\n",
      "Epoch 6/7\n",
      "50000/50000 [==============================] - 8s 168us/step - loss: 0.0015\n",
      "Epoch 7/7\n",
      "50000/50000 [==============================] - 8s 163us/step - loss: 0.0013\n"
     ]
    },
    {
     "data": {
      "text/plain": [
       "<keras.callbacks.callbacks.History at 0x7f15474d1748>"
      ]
     },
     "execution_count": 121,
     "metadata": {},
     "output_type": "execute_result"
    }
   ],
   "source": [
    "model.fit(x, y, batch_size=1000, epochs=7)"
   ]
  },
  {
   "cell_type": "code",
   "execution_count": 123,
   "metadata": {},
   "outputs": [
    {
     "ename": "TypeError",
     "evalue": "'>' not supported between instances of 'numpy.str_' and 'int'",
     "output_type": "error",
     "traceback": [
      "\u001b[0;31m---------------------------------------------------------------------------\u001b[0m",
      "\u001b[0;31mTypeError\u001b[0m                                 Traceback (most recent call last)",
      "\u001b[0;32m~/addons/site-packages/pandas/core/groupby/groupby.py\u001b[0m in \u001b[0;36mapply\u001b[0;34m(self, func, *args, **kwargs)\u001b[0m\n\u001b[1;32m    724\u001b[0m             \u001b[0;32mtry\u001b[0m\u001b[0;34m:\u001b[0m\u001b[0;34m\u001b[0m\u001b[0m\n\u001b[0;32m--> 725\u001b[0;31m                 \u001b[0mresult\u001b[0m \u001b[0;34m=\u001b[0m \u001b[0mself\u001b[0m\u001b[0;34m.\u001b[0m\u001b[0m_python_apply_general\u001b[0m\u001b[0;34m(\u001b[0m\u001b[0mf\u001b[0m\u001b[0;34m)\u001b[0m\u001b[0;34m\u001b[0m\u001b[0m\n\u001b[0m\u001b[1;32m    726\u001b[0m             \u001b[0;32mexcept\u001b[0m \u001b[0mException\u001b[0m\u001b[0;34m:\u001b[0m\u001b[0;34m\u001b[0m\u001b[0m\n",
      "\u001b[0;32m~/addons/site-packages/pandas/core/groupby/groupby.py\u001b[0m in \u001b[0;36m_python_apply_general\u001b[0;34m(self, f)\u001b[0m\n\u001b[1;32m    741\u001b[0m     \u001b[0;32mdef\u001b[0m \u001b[0m_python_apply_general\u001b[0m\u001b[0;34m(\u001b[0m\u001b[0mself\u001b[0m\u001b[0;34m,\u001b[0m \u001b[0mf\u001b[0m\u001b[0;34m)\u001b[0m\u001b[0;34m:\u001b[0m\u001b[0;34m\u001b[0m\u001b[0m\n\u001b[0;32m--> 742\u001b[0;31m         \u001b[0mkeys\u001b[0m\u001b[0;34m,\u001b[0m \u001b[0mvalues\u001b[0m\u001b[0;34m,\u001b[0m \u001b[0mmutated\u001b[0m \u001b[0;34m=\u001b[0m \u001b[0mself\u001b[0m\u001b[0;34m.\u001b[0m\u001b[0mgrouper\u001b[0m\u001b[0;34m.\u001b[0m\u001b[0mapply\u001b[0m\u001b[0;34m(\u001b[0m\u001b[0mf\u001b[0m\u001b[0;34m,\u001b[0m \u001b[0mself\u001b[0m\u001b[0;34m.\u001b[0m\u001b[0m_selected_obj\u001b[0m\u001b[0;34m,\u001b[0m \u001b[0mself\u001b[0m\u001b[0;34m.\u001b[0m\u001b[0maxis\u001b[0m\u001b[0;34m)\u001b[0m\u001b[0;34m\u001b[0m\u001b[0m\n\u001b[0m\u001b[1;32m    743\u001b[0m \u001b[0;34m\u001b[0m\u001b[0m\n",
      "\u001b[0;32m~/addons/site-packages/pandas/core/groupby/ops.py\u001b[0m in \u001b[0;36mapply\u001b[0;34m(self, f, data, axis)\u001b[0m\n\u001b[1;32m    236\u001b[0m             \u001b[0mgroup_axes\u001b[0m \u001b[0;34m=\u001b[0m \u001b[0m_get_axes\u001b[0m\u001b[0;34m(\u001b[0m\u001b[0mgroup\u001b[0m\u001b[0;34m)\u001b[0m\u001b[0;34m\u001b[0m\u001b[0m\n\u001b[0;32m--> 237\u001b[0;31m             \u001b[0mres\u001b[0m \u001b[0;34m=\u001b[0m \u001b[0mf\u001b[0m\u001b[0;34m(\u001b[0m\u001b[0mgroup\u001b[0m\u001b[0;34m)\u001b[0m\u001b[0;34m\u001b[0m\u001b[0m\n\u001b[0m\u001b[1;32m    238\u001b[0m             \u001b[0;32mif\u001b[0m \u001b[0;32mnot\u001b[0m \u001b[0m_is_indexed_like\u001b[0m\u001b[0;34m(\u001b[0m\u001b[0mres\u001b[0m\u001b[0;34m,\u001b[0m \u001b[0mgroup_axes\u001b[0m\u001b[0;34m)\u001b[0m\u001b[0;34m:\u001b[0m\u001b[0;34m\u001b[0m\u001b[0m\n",
      "\u001b[0;32m~/addons/site-packages/matchzoo/engine/base_model.py\u001b[0m in \u001b[0;36m<lambda>\u001b[0;34m(df)\u001b[0m\n\u001b[1;32m    378\u001b[0m         val = eval_df.groupby(by='id').apply(\n\u001b[0;32m--> 379\u001b[0;31m             \u001b[0;32mlambda\u001b[0m \u001b[0mdf\u001b[0m\u001b[0;34m:\u001b[0m \u001b[0mmetric\u001b[0m\u001b[0;34m(\u001b[0m\u001b[0mdf\u001b[0m\u001b[0;34m[\u001b[0m\u001b[0;34m'true'\u001b[0m\u001b[0;34m]\u001b[0m\u001b[0;34m.\u001b[0m\u001b[0mvalues\u001b[0m\u001b[0;34m,\u001b[0m \u001b[0mdf\u001b[0m\u001b[0;34m[\u001b[0m\u001b[0;34m'pred'\u001b[0m\u001b[0;34m]\u001b[0m\u001b[0;34m.\u001b[0m\u001b[0mvalues\u001b[0m\u001b[0;34m)\u001b[0m\u001b[0;34m\u001b[0m\u001b[0m\n\u001b[0m\u001b[1;32m    380\u001b[0m         ).mean()\n",
      "\u001b[0;32m<ipython-input-9-a4ce6ed0d4f3>\u001b[0m in \u001b[0;36m__call__\u001b[0;34m(self, y_true, y_pred)\u001b[0m\n\u001b[1;32m     58\u001b[0m                 \u001b[0;32mbreak\u001b[0m\u001b[0;34m\u001b[0m\u001b[0m\n\u001b[0;32m---> 59\u001b[0;31m             \u001b[0;32mif\u001b[0m \u001b[0mlabel\u001b[0m \u001b[0;34m>\u001b[0m \u001b[0mself\u001b[0m\u001b[0;34m.\u001b[0m\u001b[0m_threshold\u001b[0m\u001b[0;34m:\u001b[0m\u001b[0;34m\u001b[0m\u001b[0m\n\u001b[0m\u001b[1;32m     60\u001b[0m                 \u001b[0mprecision\u001b[0m \u001b[0;34m+=\u001b[0m \u001b[0;36m1.\u001b[0m\u001b[0;34m\u001b[0m\u001b[0m\n",
      "\u001b[0;31mTypeError\u001b[0m: '>' not supported between instances of 'numpy.str_' and 'int'",
      "\nDuring handling of the above exception, another exception occurred:\n",
      "\u001b[0;31mTypeError\u001b[0m                                 Traceback (most recent call last)",
      "\u001b[0;32m<ipython-input-123-4db8a4a2d2e9>\u001b[0m in \u001b[0;36m<module>\u001b[0;34m\u001b[0m\n\u001b[0;32m----> 1\u001b[0;31m \u001b[0mmodel\u001b[0m\u001b[0;34m.\u001b[0m\u001b[0mevaluate\u001b[0m\u001b[0;34m(\u001b[0m\u001b[0mx\u001b[0m\u001b[0;34m,\u001b[0m \u001b[0my\u001b[0m\u001b[0;34m)\u001b[0m\u001b[0;34m\u001b[0m\u001b[0m\n\u001b[0m",
      "\u001b[0;32m~/addons/site-packages/matchzoo/engine/base_model.py\u001b[0m in \u001b[0;36mevaluate\u001b[0;34m(self, x, y, batch_size)\u001b[0m\n\u001b[1;32m    334\u001b[0m             \u001b[0;32mfor\u001b[0m \u001b[0mmetric\u001b[0m \u001b[0;32min\u001b[0m \u001b[0mmatchzoo_metrics\u001b[0m\u001b[0;34m:\u001b[0m\u001b[0;34m\u001b[0m\u001b[0m\n\u001b[1;32m    335\u001b[0m                 result[metric] = self._eval_metric_on_data_frame(\n\u001b[0;32m--> 336\u001b[0;31m                     metric, x['id_left'], y, y_pred)\n\u001b[0m\u001b[1;32m    337\u001b[0m \u001b[0;34m\u001b[0m\u001b[0m\n\u001b[1;32m    338\u001b[0m         \u001b[0;32mreturn\u001b[0m \u001b[0mresult\u001b[0m\u001b[0;34m\u001b[0m\u001b[0m\n",
      "\u001b[0;32m~/addons/site-packages/matchzoo/engine/base_model.py\u001b[0m in \u001b[0;36m_eval_metric_on_data_frame\u001b[0;34m(cls, metric, id_left, y, y_pred)\u001b[0m\n\u001b[1;32m    377\u001b[0m         \u001b[0;32massert\u001b[0m \u001b[0misinstance\u001b[0m\u001b[0;34m(\u001b[0m\u001b[0mmetric\u001b[0m\u001b[0;34m,\u001b[0m \u001b[0mBaseMetric\u001b[0m\u001b[0;34m)\u001b[0m\u001b[0;34m\u001b[0m\u001b[0m\n\u001b[1;32m    378\u001b[0m         val = eval_df.groupby(by='id').apply(\n\u001b[0;32m--> 379\u001b[0;31m             \u001b[0;32mlambda\u001b[0m \u001b[0mdf\u001b[0m\u001b[0;34m:\u001b[0m \u001b[0mmetric\u001b[0m\u001b[0;34m(\u001b[0m\u001b[0mdf\u001b[0m\u001b[0;34m[\u001b[0m\u001b[0;34m'true'\u001b[0m\u001b[0;34m]\u001b[0m\u001b[0;34m.\u001b[0m\u001b[0mvalues\u001b[0m\u001b[0;34m,\u001b[0m \u001b[0mdf\u001b[0m\u001b[0;34m[\u001b[0m\u001b[0;34m'pred'\u001b[0m\u001b[0;34m]\u001b[0m\u001b[0;34m.\u001b[0m\u001b[0mvalues\u001b[0m\u001b[0;34m)\u001b[0m\u001b[0;34m\u001b[0m\u001b[0m\n\u001b[0m\u001b[1;32m    380\u001b[0m         ).mean()\n\u001b[1;32m    381\u001b[0m         \u001b[0;32mreturn\u001b[0m \u001b[0mval\u001b[0m\u001b[0;34m\u001b[0m\u001b[0m\n",
      "\u001b[0;32m~/addons/site-packages/pandas/core/groupby/groupby.py\u001b[0m in \u001b[0;36mapply\u001b[0;34m(self, func, *args, **kwargs)\u001b[0m\n\u001b[1;32m    735\u001b[0m \u001b[0;34m\u001b[0m\u001b[0m\n\u001b[1;32m    736\u001b[0m                 \u001b[0;32mwith\u001b[0m \u001b[0m_group_selection_context\u001b[0m\u001b[0;34m(\u001b[0m\u001b[0mself\u001b[0m\u001b[0;34m)\u001b[0m\u001b[0;34m:\u001b[0m\u001b[0;34m\u001b[0m\u001b[0m\n\u001b[0;32m--> 737\u001b[0;31m                     \u001b[0;32mreturn\u001b[0m \u001b[0mself\u001b[0m\u001b[0;34m.\u001b[0m\u001b[0m_python_apply_general\u001b[0m\u001b[0;34m(\u001b[0m\u001b[0mf\u001b[0m\u001b[0;34m)\u001b[0m\u001b[0;34m\u001b[0m\u001b[0m\n\u001b[0m\u001b[1;32m    738\u001b[0m \u001b[0;34m\u001b[0m\u001b[0m\n\u001b[1;32m    739\u001b[0m         \u001b[0;32mreturn\u001b[0m \u001b[0mresult\u001b[0m\u001b[0;34m\u001b[0m\u001b[0m\n",
      "\u001b[0;32m~/addons/site-packages/pandas/core/groupby/groupby.py\u001b[0m in \u001b[0;36m_python_apply_general\u001b[0;34m(self, f)\u001b[0m\n\u001b[1;32m    740\u001b[0m \u001b[0;34m\u001b[0m\u001b[0m\n\u001b[1;32m    741\u001b[0m     \u001b[0;32mdef\u001b[0m \u001b[0m_python_apply_general\u001b[0m\u001b[0;34m(\u001b[0m\u001b[0mself\u001b[0m\u001b[0;34m,\u001b[0m \u001b[0mf\u001b[0m\u001b[0;34m)\u001b[0m\u001b[0;34m:\u001b[0m\u001b[0;34m\u001b[0m\u001b[0m\n\u001b[0;32m--> 742\u001b[0;31m         \u001b[0mkeys\u001b[0m\u001b[0;34m,\u001b[0m \u001b[0mvalues\u001b[0m\u001b[0;34m,\u001b[0m \u001b[0mmutated\u001b[0m \u001b[0;34m=\u001b[0m \u001b[0mself\u001b[0m\u001b[0;34m.\u001b[0m\u001b[0mgrouper\u001b[0m\u001b[0;34m.\u001b[0m\u001b[0mapply\u001b[0m\u001b[0;34m(\u001b[0m\u001b[0mf\u001b[0m\u001b[0;34m,\u001b[0m \u001b[0mself\u001b[0m\u001b[0;34m.\u001b[0m\u001b[0m_selected_obj\u001b[0m\u001b[0;34m,\u001b[0m \u001b[0mself\u001b[0m\u001b[0;34m.\u001b[0m\u001b[0maxis\u001b[0m\u001b[0;34m)\u001b[0m\u001b[0;34m\u001b[0m\u001b[0m\n\u001b[0m\u001b[1;32m    743\u001b[0m \u001b[0;34m\u001b[0m\u001b[0m\n\u001b[1;32m    744\u001b[0m         return self._wrap_applied_output(\n",
      "\u001b[0;32m~/addons/site-packages/pandas/core/groupby/ops.py\u001b[0m in \u001b[0;36mapply\u001b[0;34m(self, f, data, axis)\u001b[0m\n\u001b[1;32m    235\u001b[0m             \u001b[0;31m# group might be modified\u001b[0m\u001b[0;34m\u001b[0m\u001b[0;34m\u001b[0m\u001b[0m\n\u001b[1;32m    236\u001b[0m             \u001b[0mgroup_axes\u001b[0m \u001b[0;34m=\u001b[0m \u001b[0m_get_axes\u001b[0m\u001b[0;34m(\u001b[0m\u001b[0mgroup\u001b[0m\u001b[0;34m)\u001b[0m\u001b[0;34m\u001b[0m\u001b[0m\n\u001b[0;32m--> 237\u001b[0;31m             \u001b[0mres\u001b[0m \u001b[0;34m=\u001b[0m \u001b[0mf\u001b[0m\u001b[0;34m(\u001b[0m\u001b[0mgroup\u001b[0m\u001b[0;34m)\u001b[0m\u001b[0;34m\u001b[0m\u001b[0m\n\u001b[0m\u001b[1;32m    238\u001b[0m             \u001b[0;32mif\u001b[0m \u001b[0;32mnot\u001b[0m \u001b[0m_is_indexed_like\u001b[0m\u001b[0;34m(\u001b[0m\u001b[0mres\u001b[0m\u001b[0;34m,\u001b[0m \u001b[0mgroup_axes\u001b[0m\u001b[0;34m)\u001b[0m\u001b[0;34m:\u001b[0m\u001b[0;34m\u001b[0m\u001b[0m\n\u001b[1;32m    239\u001b[0m                 \u001b[0mmutated\u001b[0m \u001b[0;34m=\u001b[0m \u001b[0;32mTrue\u001b[0m\u001b[0;34m\u001b[0m\u001b[0m\n",
      "\u001b[0;32m~/addons/site-packages/matchzoo/engine/base_model.py\u001b[0m in \u001b[0;36m<lambda>\u001b[0;34m(df)\u001b[0m\n\u001b[1;32m    377\u001b[0m         \u001b[0;32massert\u001b[0m \u001b[0misinstance\u001b[0m\u001b[0;34m(\u001b[0m\u001b[0mmetric\u001b[0m\u001b[0;34m,\u001b[0m \u001b[0mBaseMetric\u001b[0m\u001b[0;34m)\u001b[0m\u001b[0;34m\u001b[0m\u001b[0m\n\u001b[1;32m    378\u001b[0m         val = eval_df.groupby(by='id').apply(\n\u001b[0;32m--> 379\u001b[0;31m             \u001b[0;32mlambda\u001b[0m \u001b[0mdf\u001b[0m\u001b[0;34m:\u001b[0m \u001b[0mmetric\u001b[0m\u001b[0;34m(\u001b[0m\u001b[0mdf\u001b[0m\u001b[0;34m[\u001b[0m\u001b[0;34m'true'\u001b[0m\u001b[0;34m]\u001b[0m\u001b[0;34m.\u001b[0m\u001b[0mvalues\u001b[0m\u001b[0;34m,\u001b[0m \u001b[0mdf\u001b[0m\u001b[0;34m[\u001b[0m\u001b[0;34m'pred'\u001b[0m\u001b[0;34m]\u001b[0m\u001b[0;34m.\u001b[0m\u001b[0mvalues\u001b[0m\u001b[0;34m)\u001b[0m\u001b[0;34m\u001b[0m\u001b[0m\n\u001b[0m\u001b[1;32m    380\u001b[0m         ).mean()\n\u001b[1;32m    381\u001b[0m         \u001b[0;32mreturn\u001b[0m \u001b[0mval\u001b[0m\u001b[0;34m\u001b[0m\u001b[0m\n",
      "\u001b[0;32m<ipython-input-9-a4ce6ed0d4f3>\u001b[0m in \u001b[0;36m__call__\u001b[0;34m(self, y_true, y_pred)\u001b[0m\n\u001b[1;32m     57\u001b[0m             \u001b[0;32mif\u001b[0m \u001b[0midx\u001b[0m \u001b[0;34m>=\u001b[0m \u001b[0mself\u001b[0m\u001b[0;34m.\u001b[0m\u001b[0m_k\u001b[0m\u001b[0;34m:\u001b[0m\u001b[0;34m\u001b[0m\u001b[0m\n\u001b[1;32m     58\u001b[0m                 \u001b[0;32mbreak\u001b[0m\u001b[0;34m\u001b[0m\u001b[0m\n\u001b[0;32m---> 59\u001b[0;31m             \u001b[0;32mif\u001b[0m \u001b[0mlabel\u001b[0m \u001b[0;34m>\u001b[0m \u001b[0mself\u001b[0m\u001b[0;34m.\u001b[0m\u001b[0m_threshold\u001b[0m\u001b[0;34m:\u001b[0m\u001b[0;34m\u001b[0m\u001b[0m\n\u001b[0m\u001b[1;32m     60\u001b[0m                 \u001b[0mprecision\u001b[0m \u001b[0;34m+=\u001b[0m \u001b[0;36m1.\u001b[0m\u001b[0;34m\u001b[0m\u001b[0m\n\u001b[1;32m     61\u001b[0m         \u001b[0;32mreturn\u001b[0m \u001b[0mprecision\u001b[0m \u001b[0;34m/\u001b[0m \u001b[0mself\u001b[0m\u001b[0;34m.\u001b[0m\u001b[0m_k\u001b[0m\u001b[0;34m\u001b[0m\u001b[0m\n",
      "\u001b[0;31mTypeError\u001b[0m: '>' not supported between instances of 'numpy.str_' and 'int'"
     ]
    }
   ],
   "source": [
    "model.evaluate(x, y)"
   ]
  },
  {
   "cell_type": "code",
   "execution_count": null,
   "metadata": {},
   "outputs": [
    {
     "name": "stdout",
     "output_type": "stream",
     "text": [
      "--2019-11-07 20:23:09--  https://msmarco.blob.core.windows.net/msmarcoranking/qidpidtriples.train.full.tar.gz\n",
      "Resolving msmarco.blob.core.windows.net (msmarco.blob.core.windows.net)... 40.112.152.16\n",
      "Connecting to msmarco.blob.core.windows.net (msmarco.blob.core.windows.net)|40.112.152.16|:443... connected.\n",
      "HTTP request sent, awaiting response... 200 OK\n",
      "Length: 2633557579 (2.5G) [application/octet-stream]\n",
      "Saving to: ‘qidpidtriples.train.full.tar.gz’\n",
      "\n",
      "26% [=========>                             ] 696,262,656 18.8MB/s  eta 1m 57s "
     ]
    }
   ],
   "source": [
    "!wget https://msmarco.blob.core.windows.net/msmarcoranking/qidpidtriples.train.full.tar.gz"
   ]
  },
  {
   "cell_type": "code",
   "execution_count": null,
   "metadata": {},
   "outputs": [],
   "source": []
  }
 ],
 "metadata": {
  "kernelspec": {
   "display_name": "Python 3",
   "language": "python",
   "name": "python3"
  },
  "language_info": {
   "codemirror_mode": {
    "name": "ipython",
    "version": 3
   },
   "file_extension": ".py",
   "mimetype": "text/x-python",
   "name": "python",
   "nbconvert_exporter": "python",
   "pygments_lexer": "ipython3",
   "version": "3.6.3"
  }
 },
 "nbformat": 4,
 "nbformat_minor": 2
}
