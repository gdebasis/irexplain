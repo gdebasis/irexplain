{
 "cells": [
  {
   "cell_type": "code",
   "execution_count": 19,
   "metadata": {},
   "outputs": [],
   "source": [
    "import lucene\n",
    "from org.apache.lucene.document import Document, Field\n",
    "from org.apache.lucene.search import IndexSearcher, Explanation\n",
    "from org.apache.lucene.search.similarities import TFIDFSimilarity, LMJelinekMercerSimilarity;\n",
    "from org.apache.lucene.index import IndexReader,DirectoryReader,TermsEnum,Term\n",
    "from org.apache.lucene.queryparser.classic import QueryParser\n",
    "from org.apache.lucene.store import SimpleFSDirectory, FSDirectory\n",
    "from org.apache.lucene.util import Version, BytesRefIterator\n",
    "from org.apache.lucene.analysis.standard import StandardAnalyzer\n",
    "from org.apache.lucene.analysis.core import WhitespaceAnalyzer \n",
    "from org.apache.lucene.queryparser.flexible.standard import StandardQueryParser\n",
    "from sklearn.utils import check_random_state\n",
    "from functools import partial\n",
    "import numpy as np\n",
    "from java.io import File\n",
    "from org.apache.lucene.analysis.en import EnglishAnalyzer\n",
    "import lime\n",
    "from lime import lime_ranker\n",
    "import re, os\n",
    "import matplotlib.pyplot as plt\n",
    "from scipy.stats import kendalltau\n",
    "import warnings\n",
    "warnings.filterwarnings('ignore')\n",
    "import pandas as pd\n",
    "from plotly.offline import init_notebook_mode,iplot, plot\n",
    "import plotly.graph_objs as go\n",
    "import plotly.plotly as py\n",
    "from IPython.display import display\n",
    "from scipy.stats import entropy\n",
    "from sklearn.metrics.pairwise import cosine_similarity\n",
    "import ipyparallel as ipp"
   ]
  },
  {
   "cell_type": "code",
   "execution_count": 18,
   "metadata": {},
   "outputs": [
    {
     "ename": "ModuleNotFoundError",
     "evalue": "No module named 'org.apache.lucene.document.Document'; 'org.apache.lucene.document' is not a package",
     "output_type": "error",
     "traceback": [
      "\u001b[0;31m---------------------------------------------------------------------------\u001b[0m",
      "\u001b[0;31mModuleNotFoundError\u001b[0m                       Traceback (most recent call last)",
      "\u001b[0;32m<ipython-input-18-06a3e11151d3>\u001b[0m in \u001b[0;36m<module>\u001b[0;34m\u001b[0m\n\u001b[0;32m----> 1\u001b[0;31m \u001b[0;32mimport\u001b[0m \u001b[0morg\u001b[0m\u001b[0;34m.\u001b[0m\u001b[0mapache\u001b[0m\u001b[0;34m.\u001b[0m\u001b[0mlucene\u001b[0m\u001b[0;34m.\u001b[0m\u001b[0mdocument\u001b[0m\u001b[0;34m.\u001b[0m\u001b[0mDocument\u001b[0m\u001b[0;34m\u001b[0m\u001b[0;34m\u001b[0m\u001b[0m\n\u001b[0m\u001b[1;32m      2\u001b[0m \u001b[0;32mimport\u001b[0m \u001b[0morg\u001b[0m\u001b[0;34m.\u001b[0m\u001b[0mapache\u001b[0m\u001b[0;34m.\u001b[0m\u001b[0mlucene\u001b[0m\u001b[0;34m.\u001b[0m\u001b[0mindex\u001b[0m\u001b[0;34m.\u001b[0m\u001b[0mDirectoryReader\u001b[0m\u001b[0;34m\u001b[0m\u001b[0;34m\u001b[0m\u001b[0m\n\u001b[1;32m      3\u001b[0m \u001b[0;32mimport\u001b[0m \u001b[0morg\u001b[0m\u001b[0;34m.\u001b[0m\u001b[0mapache\u001b[0m\u001b[0;34m.\u001b[0m\u001b[0mlucene\u001b[0m\u001b[0;34m.\u001b[0m\u001b[0mindex\u001b[0m\u001b[0;34m.\u001b[0m\u001b[0mIndexReader\u001b[0m\u001b[0;34m\u001b[0m\u001b[0;34m\u001b[0m\u001b[0m\n\u001b[1;32m      4\u001b[0m \u001b[0;32mimport\u001b[0m \u001b[0morg\u001b[0m\u001b[0;34m.\u001b[0m\u001b[0mapache\u001b[0m\u001b[0;34m.\u001b[0m\u001b[0mlucene\u001b[0m\u001b[0;34m.\u001b[0m\u001b[0msearch\u001b[0m\u001b[0;34m.\u001b[0m\u001b[0mIndexSearcher\u001b[0m\u001b[0;34m\u001b[0m\u001b[0;34m\u001b[0m\u001b[0m\n\u001b[1;32m      5\u001b[0m \u001b[0;32mimport\u001b[0m \u001b[0morg\u001b[0m\u001b[0;34m.\u001b[0m\u001b[0mapache\u001b[0m\u001b[0;34m.\u001b[0m\u001b[0mlucene\u001b[0m\u001b[0;34m.\u001b[0m\u001b[0msearch\u001b[0m\u001b[0;34m.\u001b[0m\u001b[0mQuery\u001b[0m\u001b[0;34m\u001b[0m\u001b[0;34m\u001b[0m\u001b[0m\n",
      "\u001b[0;31mModuleNotFoundError\u001b[0m: No module named 'org.apache.lucene.document.Document'; 'org.apache.lucene.document' is not a package"
     ]
    }
   ],
   "source": [
    "import org.apache.lucene.document.Document\n",
    "import org.apache.lucene.index.DirectoryReader\n",
    "import org.apache.lucene.index.IndexReader\n",
    "import org.apache.lucene.search.IndexSearcher\n",
    "import org.apache.lucene.search.Query\n",
    "import org.apache.lucene.search.ScoreDoc\n",
    "import org.apache.lucene.search.TopDocs\n",
    "import org.apache.lucene.store.FSDirectory\n"
   ]
  },
  {
   "cell_type": "code",
   "execution_count": 2,
   "metadata": {},
   "outputs": [],
   "source": [
    "class QRel:\n",
    "    def __init__(self):\n",
    "        self.query_label = {}\n",
    "        self.doc_label = {}\n",
    "    \n",
    "    def set_rel(self, query_id, doc_id, rel_label):\n",
    "        if query_id not in self.query_label:\n",
    "            self.query_label[query_id] = {}\n",
    "        \n",
    "        self.query_label[query_id][doc_id] = rel_label\n",
    "        \n",
    "        if doc_id not in self.doc_label:\n",
    "            self.doc_label[doc_id] = {}\n",
    "        \n",
    "        self.doc_label[doc_id][query_id] = rel_label\n",
    "        \n",
    "    def get_rel(self, query_id, doc_id):\n",
    "        try:\n",
    "            return self.query_label[query_id][doc_id]\n",
    "        except Exception as ex:\n",
    "            print(ex)\n",
    "        return -1"
   ]
  },
  {
   "cell_type": "code",
   "execution_count": 3,
   "metadata": {},
   "outputs": [],
   "source": [
    "# Load the samples\n",
    "lucene_index_path = '/Users/manishav/workspace/irexplain/data/trec/index_old/'\n",
    "samples_path = '/Users/manishav/workspace/irexplain/samples/200_sized_samples/samples_0.1_tfidf.txt'\n",
    "\n",
    "\n",
    "def load_qrels(qrel_path):\n",
    "    qrel = {}\n",
    "    with open(qrel_path,'r') as ifile:\n",
    "        for line in ifile:\n",
    "            split = line.split()\n",
    "    \n",
    "\n",
    "\n",
    "def load_samples(file_path):\n",
    "    samples_list = {}\n",
    "    with open(file_path, 'r') as ifile:\n",
    "        for line in ifile:\n",
    "            split = line.split('\\t')\n",
    "            doc_id = split[1][:split[1].rindex('_')]\n",
    "            try:\n",
    "                index_key = (split[0],doc_id, float(split[5]))\n",
    "                if index_key not in samples_list:\n",
    "                    samples_list[index_key] = []\n",
    "                samples_list[index_key].append({ 'sample_id':split[1], 'sample_text': split[3].strip(),\\\n",
    "                                         'sample_score': float(split[4])})\n",
    "            except:\n",
    "                print(split)\n",
    "    return samples_list\n",
    "\n",
    "#[\\\\\\\\/:*?\"<>|]\n",
    "\n",
    "def tokenize_text(text):\n",
    "    # remove symbols\n",
    "    ntext = re.sub(r'\\W+', ' ', text)\n",
    "    analyzer = EnglishAnalyzer()\n",
    "    parser = StandardQueryParser(analyzer)\n",
    "    parsed_text = parser.parse(ntext,'').toString('')\n",
    "    parsed_text = re.sub('[)()]', '', parsed_text)\n",
    "    return parsed_text\n",
    "\n",
    "\n",
    "def consistancy(explanation_objects):\n",
    "    '''\n",
    "        Compares the relative differences in explanations for the same document accross different sampling \n",
    "    '''\n",
    "    #kendall_values = {}\n",
    "    scores = []\n",
    "    for i in range(len(explanation_objects)):\n",
    "        #kendall_values[i] = {}\n",
    "        for j in range(i+1,len(explanation_objects)):\n",
    "            kscore = kendalltau(explanation_objects[i],explanation_objects[j])\n",
    "            if kscore[1] < 0.05:\n",
    "                #kendall_values[i][j] = kscore[0] \n",
    "                scores.append(kscore[0])\n",
    "    return np.mean(scores)\n",
    "\n",
    "\n",
    "\n",
    "def divergence_from_truth(rel_vector, non_rel_vector,  explain_vector):\n",
    "    \n",
    "    \n",
    "    # find the common words in all three vectors.    \n",
    "    all_vectors = pd.DataFrame({'rel_vector': rel_vector, \\\n",
    "                  'non_rel_vector':non_rel_vector,\\\n",
    "                  'explain_vector': explain_vector}).fillna(0.0)\n",
    "    \n",
    "    #print(all_vectors[all_vectors['explain_vector'] > 0].head())\n",
    "\n",
    "    norm_df = all_vectors.apply(lambda x: x/x.max(), axis=0)\n",
    "    neg_ent = entropy(norm_df['non_rel_vector'].values,norm_df['explain_vector'].values )\n",
    "    pos_ent = entropy(norm_df['rel_vector'].values,norm_df['explain_vector'].values )\n",
    "    print(neg_ent, pos_ent, norm_df.shape)\n",
    "    \n",
    "    '''\n",
    "    # Compute KL Divergence between relevant and non-relevant    \n",
    "    neg_ent =  cosine_similarity([all_vectors['non_rel_vector'].values],\\\n",
    "          [all_vectors['explain_vector'].values])\n",
    "    pos_ent =  cosine_similarity([all_vectors['rel_vector'].values], \\\n",
    "                                 [all_vectors['explain_vector'].values])\n",
    "    #print(neg_ent, pos_ent, len(explain_vector), all_vectors.shape)\n",
    "    '''\n",
    "    \n",
    "    return  neg_ent, pos_ent, neg_ent[0]/pos_ent[0]\n",
    "    \n",
    "    \n",
    "def compute_query_document_vectors(qrel_path, lime_object):\n",
    "    # Read the qrel file\n",
    "    qrel_object = QRel()\n",
    "    \n",
    "    query_vectors = {}\n",
    "    doc_counts = {}\n",
    "    for line in open(qrel_path, 'r'):\n",
    "        split = line.split(' ')\n",
    "        query_id = split[0]\n",
    "        doc_id = split[2]\n",
    "        rel_label = int(split[3])\n",
    "        if query_id not in query_vectors:\n",
    "            query_vectors[query_id] = {}\n",
    "            doc_counts[query_id] = {}\n",
    "        \n",
    "        if rel_label not in query_vectors[query_id]:\n",
    "            query_vectors[query_id][rel_label] = {}\n",
    "            doc_counts[query_id][rel_label] = 0.0\n",
    "            \n",
    "        qrel_object.set_rel(query_id, doc_id, rel_label)\n",
    "        \n",
    "        if doc_counts[query_id][rel_label] < 50:\n",
    "            doc_vector = lime_object.get_document_vector(doc_id,'id','words')\n",
    "       \n",
    "            for entry , value in doc_vector.items():\n",
    "                if entry not in query_vectors[query_id][rel_label]:\n",
    "                    query_vectors[query_id][rel_label][entry] = value\n",
    "                else:\n",
    "                    query_vectors[query_id][rel_label][entry] += value\n",
    "                \n",
    "            doc_counts[query_id][rel_label] += 1.0\n",
    "        \n",
    "    # normalize the vectors.\n",
    "    for query_id in query_vectors.keys():\n",
    "        for rel_label in query_vectors[query_id].keys():\n",
    "            for word in query_vectors[query_id][rel_label].keys():\n",
    "                query_vectors[query_id][rel_label][word]/=doc_counts[query_id][rel_label]\n",
    "        \n",
    " \n",
    "    return qrel_object, query_vectors\n",
    "\n",
    "\n",
    "def explanation_to_vector(word_list, explain_tuples, doc_vector):\n",
    "    #print(explain_tuples)\n",
    "    return dict([ (word_list[entry[0]] , doc_vector[word_list[entry[0]]]) for entry in explain_tuples])\n",
    "    \n",
    "    "
   ]
  },
  {
   "cell_type": "code",
   "execution_count": 4,
   "metadata": {},
   "outputs": [],
   "source": [
    "#env = lucene.getVMEnv()\n",
    "env = lucene.initVM(classpath=lucene.CLASSPATH, vmargs=['-Djava.awt.headless=true'])\n",
    "index_path = File(lucene_index_path).toPath()\n",
    "index_dir = FSDirectory.open(index_path)\n",
    "reader = DirectoryReader.open(index_dir)\n",
    "searcher = IndexSearcher(reader)\n",
    "        "
   ]
  },
  {
   "cell_type": "code",
   "execution_count": 5,
   "metadata": {},
   "outputs": [],
   "source": [
    "ranker_explanation = lime_ranker.LimeRankerExplainer(kernel_width = np.sqrt(100000) * .80,\\\n",
    "                                                     relevance_labels=[0,1,2,3,4],\\\n",
    "                                                     lucene_index_reader=reader, \\\n",
    "                                                     lucene_index_searcher= searcher)"
   ]
  },
  {
   "cell_type": "code",
   "execution_count": 6,
   "metadata": {},
   "outputs": [
    {
     "name": "stdout",
     "output_type": "stream",
     "text": [
      "['449 ', 'LA060590-0014_179', '', 'suppresses theological tremendous side intr']\n"
     ]
    }
   ],
   "source": [
    "samples = load_samples(samples_path)"
   ]
  },
  {
   "cell_type": "code",
   "execution_count": 7,
   "metadata": {},
   "outputs": [],
   "source": [
    "kernel_range = np.outer(np.logspace(2,7,num=9-2+1,base=10,dtype='int')  , np.linspace(0.1, 1.0, 10)).ravel()"
   ]
  },
  {
   "cell_type": "code",
   "execution_count": 8,
   "metadata": {},
   "outputs": [],
   "source": [
    "qrel_path = '/Users/manishav/workspace/irexplain/data/trec/qrels/qrels.trec8.adhoc'\n",
    "qrel_object, query_vectors = compute_query_document_vectors(qrel_path, ranker_explanation)"
   ]
  },
  {
   "cell_type": "code",
   "execution_count": 18,
   "metadata": {},
   "outputs": [],
   "source": [
    "def compute_metrics(top_k):\n",
    "    consistancy_scores=[]\n",
    "    divergence_scores=[]\n",
    "    query_count = {}\n",
    "    for index_key, sample_list in samples.items():\n",
    "        # index_key --> query_id, doc_id, doc_score\n",
    "        query_id = index_key[0].strip()\n",
    "        if query_id not in query_count:\n",
    "            print('Evaluating for query', index_key[0], top_k)\n",
    "            query_count[query_id] = 0\n",
    "        query_count[query_id] +=1\n",
    "        \n",
    "        sample_scores = [x['sample_score'] for x in sample_list]\n",
    "        sample_texts = [tokenize_text(x['sample_text']) for x in sample_list]\n",
    "        document_dict = ranker_explanation.get_document_vector(index_key[1],\\\n",
    "                                                    'id','words')\n",
    "        doc_label = qrel_object.get_rel(query_id, index_key[1])\n",
    "        word_list = list(document_dict.keys())\n",
    "        \n",
    "        explain_objects = ranker_explanation.explain_document_label(document_dict, index_key[2],\\\n",
    "                                                               sample_texts, sample_scores, top_k,\\\n",
    "                                                                weights_range=kernel_range)\n",
    "        ranked_lists = []\n",
    "        for eobject, kernel in zip(explain_objects, kernel_range):\n",
    "            ranked_lists.append([entry[0] for entry in sorted(eobject.local_exp[1],\\\n",
    "                                                              key = lambda x: x[1],\\\n",
    "                                                              reverse=True)])\n",
    "            ne, pe, dfr = divergence_from_truth(query_vectors[query_id][1],query_vectors[query_id][0],\\\n",
    "                                                                            explanation_to_vector(word_list,\\\n",
    "                                                                            eobject.local_exp[1],\\\n",
    "                                                                            document_dict))\n",
    "            divergence_scores.append({'doc_id':index_key[1],'top_feat':top_k, 'kernel':kernel, \\\n",
    "                                                'doc_rel':doc_label ,'doc_score':index_key[2], \\\n",
    "                                                'dfr': dfr, 'ne': ne, 'pe':pe, 'query_id': query_id} )\n",
    "                \n",
    "        consistancy_scores.append({'doc_id':index_key[1], 'ktau': consistancy(ranked_lists),\\\n",
    "                                                 'doc_score':index_key[2],'top_feat':top_k,\\\n",
    "                                                 'doc_rel':doc_label})\n",
    "    return consistancy_scores, divergence_scores\n"
   ]
  },
  {
   "cell_type": "code",
   "execution_count": 64,
   "metadata": {},
   "outputs": [],
   "source": [
    "L = sorted([(k, k1['doc_id'], k1['doc_score'], k1['ktau'],\\\n",
    "             k1['doc_rel'], k1['top_feat']) for k,v in consistancy_scores.items() for k1 in v], \n",
    "            key=lambda x: (x[0], x[1]))\n",
    "query_consistancy_frame = pd.DataFrame(L, columns=['query_id','doc_id','doc_score', 'ktau', 'doc_rel', 'top_feat'])\n",
    "query_consistancy_frame.to_csv('kendal_score.csv', sep=',')"
   ]
  },
  {
   "cell_type": "code",
   "execution_count": 55,
   "metadata": {},
   "outputs": [
    {
     "data": {
      "text/html": [
       "<script type=\"text/javascript\">window.PlotlyConfig = {MathJaxConfig: 'local'};</script><script type=\"text/javascript\">if (window.MathJax) {MathJax.Hub.Config({SVG: {font: \"STIX-Web\"}});}</script><script>requirejs.config({paths: { 'plotly': ['https://cdn.plot.ly/plotly-latest.min']},});if(!window._Plotly) {require(['plotly'],function(plotly) {window._Plotly=plotly;});}</script>"
      ],
      "text/vnd.plotly.v1+html": [
       "<script type=\"text/javascript\">window.PlotlyConfig = {MathJaxConfig: 'local'};</script><script type=\"text/javascript\">if (window.MathJax) {MathJax.Hub.Config({SVG: {font: \"STIX-Web\"}});}</script><script>requirejs.config({paths: { 'plotly': ['https://cdn.plot.ly/plotly-latest.min']},});if(!window._Plotly) {require(['plotly'],function(plotly) {window._Plotly=plotly;});}</script>"
      ]
     },
     "metadata": {},
     "output_type": "display_data"
    },
    {
     "data": {
      "application/vnd.plotly.v1+json": {
       "data": [
        {
         "mode": "markers",
         "name": "401",
         "type": "scatter",
         "uid": "0dd07e3e-83b0-4961-965e-9a86e92134d0",
         "x": [
          9.290847,
          9.083562,
          8.691005,
          9.233107,
          9.807556
         ],
         "y": [
          0.9230878251036563,
          0.9129161967575078,
          0.9467481415912359,
          0.7612239210065298,
          0.8444912398921833
         ]
        },
        {
         "mode": "markers",
         "name": "402",
         "type": "scatter",
         "uid": "d66ea250-41f9-43f0-af8c-5f9d8a7f417d",
         "x": [
          9.914637,
          9.987107,
          10.390393,
          9.990089,
          11.674699
         ],
         "y": [
          0.9554750932631116,
          0.9661373516880659,
          0.9223334801546517,
          0.90412567036865,
          0.9228568375089695
         ]
        },
        {
         "mode": "markers",
         "name": "403 ",
         "type": "scatter",
         "uid": "938eebe6-21e8-4f07-b054-4de5f03981b0",
         "x": [
          9.441388,
          9.323615,
          10.093675,
          9.441388,
          9.708849
         ],
         "y": [
          0.9496347172500932,
          0.9549042800192755,
          0.9625905670803186,
          0.9861686754167722,
          0.9613477655438739
         ]
        },
        {
         "mode": "markers",
         "name": "404 ",
         "type": "scatter",
         "uid": "b043ad00-c613-4030-b85d-45cc618c700e",
         "x": [
          11.890872,
          10.673793,
          11.085657,
          10.767681,
          10.700646
         ],
         "y": [
          0.921531388951692,
          0.7982878280782104,
          0.9207970928154414,
          0.9348332957591243,
          0.9520523397517038
         ]
        },
        {
         "mode": "markers",
         "name": "405 ",
         "type": "scatter",
         "uid": "5af2ec20-bdc1-42e9-8a9c-0c8425e30155",
         "x": [
          10.533146,
          12.6898575,
          10.375032,
          11.0759945,
          10.119149
         ],
         "y": [
          0.8806168901551515,
          0.9543293311285259,
          0.9080642294246608,
          0.9372414139890382,
          0.969174964924888
         ]
        },
        {
         "mode": "markers",
         "name": "406 ",
         "type": "scatter",
         "uid": "e53999d7-fb19-4336-91cc-3bf16fc394aa",
         "x": [
          13.775206,
          13.43512,
          13.305286,
          13.344221,
          14.436002
         ],
         "y": [
          0.9943894389438944,
          0.9786254509495119,
          0.9315455584802319,
          0.9698993845442896,
          0.9040159493284494
         ]
        },
        {
         "mode": "markers",
         "name": "407 ",
         "type": "scatter",
         "uid": "27c45ed9-59a5-45d5-b2e8-2fff77dc94b0",
         "x": [
          13.190692,
          13.210795,
          13.210795,
          13.370525,
          15.4146805
         ],
         "y": [
          0.9658377783551637,
          0.9441271296008379,
          0.9808964229452158,
          0.92070636786794,
          0.9229120133810645
         ]
        },
        {
         "mode": "markers",
         "name": "408 ",
         "type": "scatter",
         "uid": "8ff21580-e266-4d70-9895-484075212dd3",
         "x": [
          13.408705,
          14.307083,
          14.284037,
          13.61459,
          13.408705
         ],
         "y": [
          0.9646839826839827,
          0.9057329822954822,
          0.9669823200239422,
          0.8579437980540248,
          0.9740020417787313
         ]
        },
        {
         "mode": "markers",
         "name": "409 ",
         "type": "scatter",
         "uid": "72a1e385-2b15-45c4-b72c-7dfc5cdbfe38",
         "x": [
          12.870329,
          11.633671,
          13.520545,
          11.176984,
          11.46385
         ],
         "y": [
          0.9630214564887932,
          0.9881280500173009,
          0.9406158598705183,
          0.8428606815527796,
          0.9646632731025313
         ]
        },
        {
         "mode": "markers",
         "name": "410 ",
         "type": "scatter",
         "uid": "48bc6a0d-8d8d-4b0e-b751-1b936fc8cc19",
         "x": [
          10.944582,
          11.296025,
          12.05719,
          11.077779,
          10.917326
         ],
         "y": [
          0.8837157359331418,
          0.9814450332239886,
          0.9426051666276438,
          0.9202185268605932,
          0.9259519590177361
         ]
        },
        {
         "mode": "markers",
         "name": "411 ",
         "type": "scatter",
         "uid": "9f6675ef-2910-4a29-bd06-9e67c9a9b88c",
         "x": [
          17.11045,
          15.800142,
          15.266436,
          15.5291195,
          18.396696
         ],
         "y": [
          0.9623859502307147,
          0.9335750750980482,
          0.9566632951394655,
          0.9547113543555247,
          0.9556582284615758
         ]
        },
        {
         "mode": "markers",
         "name": "412 ",
         "type": "scatter",
         "uid": "5d6bfa80-8188-4a3f-b196-a0583aeda3e4",
         "x": [
          7.752486,
          8.080351,
          7.5650406,
          8.027657,
          8.366061
         ],
         "y": [
          0.9873672980698428,
          0.9612405544870785,
          0.9883135655108156,
          0.949761997369932,
          0.9386428745202595
         ]
        },
        {
         "mode": "markers",
         "name": "413 ",
         "type": "scatter",
         "uid": "ec086d82-35ad-4ddf-a641-f9d64e7b1ee7",
         "x": [
          8.363681,
          8.378071,
          8.3462105,
          8.786941,
          8.498466
         ],
         "y": [
          0.9277794074508654,
          0.9872297804017497,
          0.9227080258880946,
          0.9282915492261288,
          0.9233293317326932
         ]
        },
        {
         "mode": "markers",
         "name": "414 ",
         "type": "scatter",
         "uid": "bd3d2232-d8a2-4c90-a1d3-5d9539fa8aca",
         "x": [
          13.446551,
          13.95374,
          13.357056,
          14.256916,
          13.594603
         ],
         "y": [
          0.9513792622226356,
          0.9591945678795079,
          0.9423015708255484,
          0.9375488229705479,
          0.9286568044581737
         ]
        },
        {
         "mode": "markers",
         "name": "415 ",
         "type": "scatter",
         "uid": "ca55871b-d3e2-4f62-a595-3a61d37673c8",
         "x": [
          15.317625,
          16.679523,
          14.74885,
          14.865173,
          16.829954
         ],
         "y": [
          0.9401841922520862,
          0.9562632891254799,
          0.8759455341472355,
          0.8643211997513572,
          0.9338755707762557
         ]
        },
        {
         "mode": "markers",
         "name": "416 ",
         "type": "scatter",
         "uid": "92ee3b77-66ec-437f-bbe3-d2ec9012dcdc",
         "x": [
          11.684843,
          11.3775835,
          11.886904,
          11.393773,
          11.587604
         ],
         "y": [
          0.9160379854761413,
          0.9266180424545819,
          0.9921139803218935,
          0.9261934412619344,
          0.9340562051953009
         ]
        },
        {
         "mode": "markers",
         "name": "417 ",
         "type": "scatter",
         "uid": "a84e4c2f-5d56-4497-86cc-d7946efb6ba9",
         "x": [
          6.510442,
          6.223255,
          6.203093,
          6.3569546,
          6.5508046
         ],
         "y": [
          0.9532230275968233,
          0.9667997870074548,
          0.9560247793126051,
          0.9531073201082316,
          0.9802579067787339
         ]
        },
        {
         "mode": "markers",
         "name": "418 ",
         "type": "scatter",
         "uid": "686fd24e-eb22-4c8c-bcb2-81166dfa5b09",
         "x": [
          9.041793,
          9.578237,
          9.031743,
          9.041793,
          9.719133
         ],
         "y": [
          0.9310833522598229,
          0.9307176756149693,
          0.9495790489501182,
          0.9398348957604589,
          0.9125401246849715
         ]
        },
        {
         "mode": "markers",
         "name": "419 ",
         "type": "scatter",
         "uid": "22c69658-da31-407d-8edb-2995ffcfaa3e",
         "x": [
          14.377756,
          14.722347,
          12.673786,
          12.07088,
          13.241081
         ],
         "y": [
          0.9647055369620104,
          0.9973820414682972,
          0.9723272851179828,
          0.9741365145091853,
          0.9663637029978744
         ]
        },
        {
         "mode": "markers",
         "name": "420 ",
         "type": "scatter",
         "uid": "330d8dc7-c593-48b0-bedc-c793bb5274e7",
         "x": [
          19.058653,
          20.386726,
          18.77626,
          18.654099,
          20.49439
         ],
         "y": [
          0.9212015647754204,
          0.9768530063221509,
          0.9566508345194117,
          0.9400238656182114,
          0.9429104601952748
         ]
        },
        {
         "mode": "markers",
         "name": "421 ",
         "type": "scatter",
         "uid": "9f98a855-e2eb-48e0-91cf-77cc6208047c",
         "x": [
          10.826214,
          11.026218,
          12.33889,
          11.8105,
          11.001229
         ],
         "y": [
          0.9408178257963666,
          0.9398416778879504,
          0.9437305936802637,
          0.9402822586810599,
          0.903771386777421
         ]
        },
        {
         "mode": "markers",
         "name": "422 ",
         "type": "scatter",
         "uid": "8042f8da-f20b-41f2-b703-412a2204d3c5",
         "x": [
          10.959179,
          11.491346,
          12.381614,
          12.604323,
          10.825184
         ],
         "y": [
          0.9435612897475322,
          0.9691712822656494,
          0.9408500090683757,
          0.9790025136843095,
          0.9891163345317892
         ]
        },
        {
         "mode": "markers",
         "name": "423 ",
         "type": "scatter",
         "uid": "a6de8638-687f-4bbd-8beb-28e56be3b687",
         "x": [
          21.894691,
          22.29892,
          22.477549,
          21.871471,
          22.112698
         ],
         "y": [
          0.950146123431322,
          0.9400407219077467,
          0.9364426927925197,
          0.902744259743669,
          0.9319052476481923
         ]
        },
        {
         "mode": "markers",
         "name": "424 ",
         "type": "scatter",
         "uid": "07fa51dd-62b9-444c-9abc-732bbe63145c",
         "x": [
          7.051557,
          6.9870763,
          7.0358224,
          7.051557,
          7.051557
         ],
         "y": [
          0.9352346414540431,
          0.9519852814860379,
          0.9538563044761607,
          0.9475264755980152,
          0.9398401189812234
         ]
        },
        {
         "mode": "markers",
         "name": "425 ",
         "type": "scatter",
         "uid": "aadbe3cf-7da3-41c2-a21a-b83c67253c0c",
         "x": [
          11.061182,
          11.445114,
          10.917299,
          10.871088,
          11.0711155
         ],
         "y": [
          0.9075655038102434,
          0.9462082397443613,
          0.9155870025514511,
          0.9418449044950246,
          0.9763549573204164
         ]
        },
        {
         "mode": "markers",
         "name": "426 ",
         "type": "scatter",
         "uid": "e629291a-0e0e-48c3-a371-2d3bd67f5aa4",
         "x": [
          11.569998,
          11.6655445,
          13.191021,
          11.620773,
          11.5565405
         ],
         "y": [
          0.9852641390465224,
          0.9808032143007512,
          0.9531521153651292,
          0.9448331825533898,
          0.9928562682572722
         ]
        },
        {
         "mode": "markers",
         "name": "427",
         "type": "scatter",
         "uid": "fe8fb768-8efa-40dd-9159-31f48d0bf889",
         "x": [
          14.126129,
          13.195225,
          14.024277,
          15.389824,
          16.645687
         ],
         "y": [
          0.9181791440626885,
          0.9532491338328903,
          0.9633904453191325,
          0.9790381635279595,
          0.953411306042885
         ]
        },
        {
         "mode": "markers",
         "name": "428 ",
         "type": "scatter",
         "uid": "5707c096-27ce-4589-93d7-9668d98271af",
         "x": [
          11.316113,
          11.373832,
          10.811983,
          11.28607,
          12.1676855
         ],
         "y": [
          0.9555439694125826,
          0.9654516756598025,
          0.9196273072952078,
          0.9667623463604917,
          0.9635304392703309
         ]
        },
        {
         "mode": "markers",
         "name": "429 ",
         "type": "scatter",
         "uid": "3bf485dd-9701-4f08-9cbb-eb6b9da816d6",
         "x": [
          14.260535,
          14.454158,
          14.85724,
          14.665972,
          15.062895
         ],
         "y": [
          0.9553344568317346,
          0.974798221981237,
          0.9621386400914814,
          0.9336971178397856,
          0.916160394118737
         ]
        },
        {
         "mode": "markers",
         "name": "430 ",
         "type": "scatter",
         "uid": "8e8aa03f-1433-4864-9fbe-adc584d46365",
         "x": [
          15.342434,
          18.367445,
          16.03025,
          17.086674,
          17.073605
         ],
         "y": [
          0.9443955734972184,
          0.9184789949323889,
          0.9667440552743954,
          0.9868183394935468,
          0.9022796707512951
         ]
        },
        {
         "mode": "markers",
         "name": "431 ",
         "type": "scatter",
         "uid": "e3dd23e3-8450-41ee-a92d-2c6b43e45a56",
         "x": [
          10.831484,
          10.738638,
          11.311753,
          10.846091,
          10.509848
         ],
         "y": [
          0.9598413635980086,
          0.9190922976216451,
          0.9477096977096977,
          0.9580545238339916,
          0.9652096979037346
         ]
        },
        {
         "mode": "markers",
         "name": "432 ",
         "type": "scatter",
         "uid": "1328ada5-8bf4-4a81-8990-6f2f7ad344df",
         "x": [
          10.249755,
          10.060238,
          10.060238,
          10.755975,
          10.402788
         ],
         "y": [
          0.9095337013076938,
          0.9514690752352796,
          0.9294832360117334,
          0.9502064862114186,
          0.9774705341469532
         ]
        },
        {
         "mode": "markers",
         "name": "433 ",
         "type": "scatter",
         "uid": "7ca84d68-ff4a-4430-887a-69701599aea6",
         "x": [
          11.00848,
          10.134823,
          13.207598,
          12.748895,
          12.488016
         ],
         "y": [
          0.9431169497828831,
          0.9525199264255059,
          0.9294601461095129,
          0.9304465128827736,
          0.9600753164336274
         ]
        },
        {
         "mode": "markers",
         "name": "434 ",
         "type": "scatter",
         "uid": "b93d00c9-2c59-4153-ac0a-fbb229646029",
         "x": [
          8.6885,
          8.796744,
          8.614734,
          9.010666,
          8.655019
         ],
         "y": [
          0.9308790675084992,
          0.9166648926734078,
          0.944462778019009,
          0.9499624789101256,
          0.9237363361196933
         ]
        },
        {
         "mode": "markers",
         "name": "435 ",
         "type": "scatter",
         "uid": "1ba08cb9-1e5f-46f2-857a-ea6ba9d25214",
         "x": [
          11.504406,
          11.204991,
          11.6229105,
          11.639069,
          12.818815
         ],
         "y": [
          0.9236984011231327,
          0.9177015300646981,
          0.8939801945346026,
          0.7011458785336613,
          0.8686981321738317
         ]
        },
        {
         "mode": "markers",
         "name": "436 ",
         "type": "scatter",
         "uid": "7f6b2bd9-ef91-4070-a067-704e5f10b81c",
         "x": [
          9.749218,
          10.594955,
          9.71661,
          9.994491,
          9.840849
         ],
         "y": [
          0.9992869228909838,
          0.9451683766078094,
          0.9495167769502072,
          0.9142031262589639,
          0.9780146368535434
         ]
        },
        {
         "mode": "markers",
         "name": "437 ",
         "type": "scatter",
         "uid": "602dd242-84bd-4127-8c2d-00093b63235e",
         "x": [
          11.408407,
          11.884956,
          12.543911,
          11.848943,
          11.685851
         ],
         "y": [
          0.9569681349125907,
          0.9700335676128571,
          0.920526482168003,
          0.9321321321321322,
          0.9552998152427269
         ]
        },
        {
         "mode": "markers",
         "name": "438 ",
         "type": "scatter",
         "uid": "2eff141e-9f79-4667-bef1-a534360e2056",
         "x": [
          8.364754,
          8.047753,
          9.31339,
          8.282791,
          8.130077
         ],
         "y": [
          0.958151199544018,
          0.961394090175025,
          0.9178545492270982,
          0.9428651502639942,
          0.9649119685241754
         ]
        },
        {
         "mode": "markers",
         "name": "439 ",
         "type": "scatter",
         "uid": "6fd88844-0cb2-4bf3-b0b0-fa723033aa61",
         "x": [
          12.565465,
          12.000536,
          12.176708,
          14.079947,
          12.096449
         ],
         "y": [
          0.9108953582450379,
          0.9426517497315886,
          0.9392647503932281,
          0.9072226574968805,
          0.9281783361267559
         ]
        },
        {
         "mode": "markers",
         "name": "440 ",
         "type": "scatter",
         "uid": "2d59ae6e-37aa-4ff6-b10b-76fbea2d88b2",
         "x": [
          9.2096,
          10.244872,
          9.155285,
          8.934223,
          9.336216
         ],
         "y": [
          0.9598744962750375,
          0.9255474146515308,
          0.9832925515310798,
          0.9713234265649945,
          0.9537386253435635
         ]
        },
        {
         "mode": "markers",
         "name": "441 ",
         "type": "scatter",
         "uid": "8b441d17-a063-40d6-8994-b39108abb7f7",
         "x": [
          15.223649,
          15.223649,
          15.070203,
          15.615651,
          15.628166
         ],
         "y": [
          0.9437595838023897,
          0.952442409103525,
          0.9781397010659204,
          0.954463682513946,
          0.9942701416998652
         ]
        },
        {
         "mode": "markers",
         "name": "442 ",
         "type": "scatter",
         "uid": "65158ef9-0015-43ba-9080-5bc15ed2d025",
         "x": [
          8.1055975,
          7.917472,
          8.492267,
          8.473166,
          7.4189825
         ],
         "y": [
          0.9591429128702388,
          0.924280716784465,
          0.9736651417323686,
          0.9683501911302054,
          0.9399389956290682
         ]
        },
        {
         "mode": "markers",
         "name": "443 ",
         "type": "scatter",
         "uid": "0456afcf-0528-4834-a0ab-f299d13b77ba",
         "x": [
          8.465351,
          8.766646,
          8.132986,
          8.506839,
          8.339059
         ],
         "y": [
          0.9632016210739615,
          0.9414774401332969,
          0.8314397103870789,
          0.8962593770384868,
          0.8854608354608355
         ]
        },
        {
         "mode": "markers",
         "name": "444 ",
         "type": "scatter",
         "uid": "d2536f46-b9ce-4df8-ab62-df16f27bb4d9",
         "x": [
          15.422307,
          16.028015,
          14.273998,
          14.273998,
          14.813602
         ],
         "y": [
          0.9778754206308858,
          0.9705967276227142,
          0.9531318639703098,
          0.9437887601689656,
          0.9467235004641081
         ]
        },
        {
         "mode": "markers",
         "name": "445",
         "type": "scatter",
         "uid": "311241a8-467b-47b3-89d7-9914635630c9",
         "x": [
          12.182492,
          11.761932,
          11.761932,
          11.703853,
          11.523384
         ],
         "y": [
          0.9789319483286721,
          0.9534150218895981,
          0.9104199718907072,
          0.9624713631156929,
          0.9897344930783554
         ]
        },
        {
         "mode": "markers",
         "name": "446 ",
         "type": "scatter",
         "uid": "4613d9f6-285a-49dc-a610-98bba0093036",
         "x": [
          9.289269,
          9.475318,
          9.588725,
          9.375123,
          9.262163
         ],
         "y": [
          0.9620130102223176,
          0.9329771855948714,
          0.9719036209561149,
          0.9327546508547792,
          0.9404956040273811
         ]
        },
        {
         "mode": "markers",
         "name": "447 ",
         "type": "scatter",
         "uid": "a9e121c5-b295-4eca-97ec-653ab56a11c5",
         "x": [
          9.536487,
          9.823916,
          11.604546,
          11.16242,
          9.386312
         ],
         "y": [
          0.9786033576232849,
          0.9608355564075122,
          0.9189596206078077,
          0.9146561965166616,
          0.9648280636972075
         ]
        },
        {
         "mode": "markers",
         "name": "448 ",
         "type": "scatter",
         "uid": "c4e2a9b7-6659-4115-8de9-26235df4296e",
         "x": [
          8.071614,
          8.245427,
          8.245427,
          8.624012,
          8.302617
         ],
         "y": [
          0.9518108536764827,
          0.9597381323379166,
          0.8982293914175143,
          0.8948550354796753,
          0.95428871568324
         ]
        },
        {
         "mode": "markers",
         "name": "449 ",
         "type": "scatter",
         "uid": "2d826c8f-fb5c-48df-a163-2d0d2905a220",
         "x": [
          12.227402,
          12.121614,
          10.655716,
          10.972245,
          10.285263
         ],
         "y": [
          0.921491193594198,
          0.9984758950115724,
          0.9552590727921124,
          0.949300133642822,
          0.9309123410674892
         ]
        }
       ],
       "layout": {
        "title": "Consistancy scores across queries",
        "xaxis": {
         "title": "Document Ranker score"
        },
        "yaxis": {
         "title": "Consistency score"
        }
       }
      },
      "text/html": [
       "<div id=\"577d2119-2bb7-4917-9a2f-0386f27769f1\" style=\"height: 525px; width: 100%;\" class=\"plotly-graph-div\"></div><script type=\"text/javascript\">require([\"plotly\"], function(Plotly) { window.PLOTLYENV=window.PLOTLYENV || {};window.PLOTLYENV.BASE_URL=\"https://plot.ly\";Plotly.newPlot(\"577d2119-2bb7-4917-9a2f-0386f27769f1\", [{\"mode\": \"markers\", \"name\": \"401\", \"x\": [9.290847, 9.083562, 8.691005, 9.233107, 9.807556], \"y\": [0.9230878251036563, 0.9129161967575078, 0.9467481415912359, 0.7612239210065298, 0.8444912398921833], \"type\": \"scatter\", \"uid\": \"0dd07e3e-83b0-4961-965e-9a86e92134d0\"}, {\"mode\": \"markers\", \"name\": \"402\", \"x\": [9.914637, 9.987107, 10.390393, 9.990089, 11.674699], \"y\": [0.9554750932631116, 0.9661373516880659, 0.9223334801546517, 0.90412567036865, 0.9228568375089695], \"type\": \"scatter\", \"uid\": \"d66ea250-41f9-43f0-af8c-5f9d8a7f417d\"}, {\"mode\": \"markers\", \"name\": \"403 \", \"x\": [9.441388, 9.323615, 10.093675, 9.441388, 9.708849], \"y\": [0.9496347172500932, 0.9549042800192755, 0.9625905670803186, 0.9861686754167722, 0.9613477655438739], \"type\": \"scatter\", \"uid\": \"938eebe6-21e8-4f07-b054-4de5f03981b0\"}, {\"mode\": \"markers\", \"name\": \"404 \", \"x\": [11.890872, 10.673793, 11.085657, 10.767681, 10.700646], \"y\": [0.921531388951692, 0.7982878280782104, 0.9207970928154414, 0.9348332957591243, 0.9520523397517038], \"type\": \"scatter\", \"uid\": \"b043ad00-c613-4030-b85d-45cc618c700e\"}, {\"mode\": \"markers\", \"name\": \"405 \", \"x\": [10.533146, 12.6898575, 10.375032, 11.0759945, 10.119149], \"y\": [0.8806168901551515, 0.9543293311285259, 0.9080642294246608, 0.9372414139890382, 0.969174964924888], \"type\": \"scatter\", \"uid\": \"5af2ec20-bdc1-42e9-8a9c-0c8425e30155\"}, {\"mode\": \"markers\", \"name\": \"406 \", \"x\": [13.775206, 13.43512, 13.305286, 13.344221, 14.436002], \"y\": [0.9943894389438944, 0.9786254509495119, 0.9315455584802319, 0.9698993845442896, 0.9040159493284494], \"type\": \"scatter\", \"uid\": \"e53999d7-fb19-4336-91cc-3bf16fc394aa\"}, {\"mode\": \"markers\", \"name\": \"407 \", \"x\": [13.190692, 13.210795, 13.210795, 13.370525, 15.4146805], \"y\": [0.9658377783551637, 0.9441271296008379, 0.9808964229452158, 0.92070636786794, 0.9229120133810645], \"type\": \"scatter\", \"uid\": \"27c45ed9-59a5-45d5-b2e8-2fff77dc94b0\"}, {\"mode\": \"markers\", \"name\": \"408 \", \"x\": [13.408705, 14.307083, 14.284037, 13.61459, 13.408705], \"y\": [0.9646839826839827, 0.9057329822954822, 0.9669823200239422, 0.8579437980540248, 0.9740020417787313], \"type\": \"scatter\", \"uid\": \"8ff21580-e266-4d70-9895-484075212dd3\"}, {\"mode\": \"markers\", \"name\": \"409 \", \"x\": [12.870329, 11.633671, 13.520545, 11.176984, 11.46385], \"y\": [0.9630214564887932, 0.9881280500173009, 0.9406158598705183, 0.8428606815527796, 0.9646632731025313], \"type\": \"scatter\", \"uid\": \"72a1e385-2b15-45c4-b72c-7dfc5cdbfe38\"}, {\"mode\": \"markers\", \"name\": \"410 \", \"x\": [10.944582, 11.296025, 12.05719, 11.077779, 10.917326], \"y\": [0.8837157359331418, 0.9814450332239886, 0.9426051666276438, 0.9202185268605932, 0.9259519590177361], \"type\": \"scatter\", \"uid\": \"48bc6a0d-8d8d-4b0e-b751-1b936fc8cc19\"}, {\"mode\": \"markers\", \"name\": \"411 \", \"x\": [17.11045, 15.800142, 15.266436, 15.5291195, 18.396696], \"y\": [0.9623859502307147, 0.9335750750980482, 0.9566632951394655, 0.9547113543555247, 0.9556582284615758], \"type\": \"scatter\", \"uid\": \"9f6675ef-2910-4a29-bd06-9e67c9a9b88c\"}, {\"mode\": \"markers\", \"name\": \"412 \", \"x\": [7.752486, 8.080351, 7.5650406, 8.027657, 8.366061], \"y\": [0.9873672980698428, 0.9612405544870785, 0.9883135655108156, 0.949761997369932, 0.9386428745202595], \"type\": \"scatter\", \"uid\": \"5d6bfa80-8188-4a3f-b196-a0583aeda3e4\"}, {\"mode\": \"markers\", \"name\": \"413 \", \"x\": [8.363681, 8.378071, 8.3462105, 8.786941, 8.498466], \"y\": [0.9277794074508654, 0.9872297804017497, 0.9227080258880946, 0.9282915492261288, 0.9233293317326932], \"type\": \"scatter\", \"uid\": \"ec086d82-35ad-4ddf-a641-f9d64e7b1ee7\"}, {\"mode\": \"markers\", \"name\": \"414 \", \"x\": [13.446551, 13.95374, 13.357056, 14.256916, 13.594603], \"y\": [0.9513792622226356, 0.9591945678795079, 0.9423015708255484, 0.9375488229705479, 0.9286568044581737], \"type\": \"scatter\", \"uid\": \"bd3d2232-d8a2-4c90-a1d3-5d9539fa8aca\"}, {\"mode\": \"markers\", \"name\": \"415 \", \"x\": [15.317625, 16.679523, 14.74885, 14.865173, 16.829954], \"y\": [0.9401841922520862, 0.9562632891254799, 0.8759455341472355, 0.8643211997513572, 0.9338755707762557], \"type\": \"scatter\", \"uid\": \"ca55871b-d3e2-4f62-a595-3a61d37673c8\"}, {\"mode\": \"markers\", \"name\": \"416 \", \"x\": [11.684843, 11.3775835, 11.886904, 11.393773, 11.587604], \"y\": [0.9160379854761413, 0.9266180424545819, 0.9921139803218935, 0.9261934412619344, 0.9340562051953009], \"type\": \"scatter\", \"uid\": \"92ee3b77-66ec-437f-bbe3-d2ec9012dcdc\"}, {\"mode\": \"markers\", \"name\": \"417 \", \"x\": [6.510442, 6.223255, 6.203093, 6.3569546, 6.5508046], \"y\": [0.9532230275968233, 0.9667997870074548, 0.9560247793126051, 0.9531073201082316, 0.9802579067787339], \"type\": \"scatter\", \"uid\": \"a84e4c2f-5d56-4497-86cc-d7946efb6ba9\"}, {\"mode\": \"markers\", \"name\": \"418 \", \"x\": [9.041793, 9.578237, 9.031743, 9.041793, 9.719133], \"y\": [0.9310833522598229, 0.9307176756149693, 0.9495790489501182, 0.9398348957604589, 0.9125401246849715], \"type\": \"scatter\", \"uid\": \"686fd24e-eb22-4c8c-bcb2-81166dfa5b09\"}, {\"mode\": \"markers\", \"name\": \"419 \", \"x\": [14.377756, 14.722347, 12.673786, 12.07088, 13.241081], \"y\": [0.9647055369620104, 0.9973820414682972, 0.9723272851179828, 0.9741365145091853, 0.9663637029978744], \"type\": \"scatter\", \"uid\": \"22c69658-da31-407d-8edb-2995ffcfaa3e\"}, {\"mode\": \"markers\", \"name\": \"420 \", \"x\": [19.058653, 20.386726, 18.77626, 18.654099, 20.49439], \"y\": [0.9212015647754204, 0.9768530063221509, 0.9566508345194117, 0.9400238656182114, 0.9429104601952748], \"type\": \"scatter\", \"uid\": \"330d8dc7-c593-48b0-bedc-c793bb5274e7\"}, {\"mode\": \"markers\", \"name\": \"421 \", \"x\": [10.826214, 11.026218, 12.33889, 11.8105, 11.001229], \"y\": [0.9408178257963666, 0.9398416778879504, 0.9437305936802637, 0.9402822586810599, 0.903771386777421], \"type\": \"scatter\", \"uid\": \"9f98a855-e2eb-48e0-91cf-77cc6208047c\"}, {\"mode\": \"markers\", \"name\": \"422 \", \"x\": [10.959179, 11.491346, 12.381614, 12.604323, 10.825184], \"y\": [0.9435612897475322, 0.9691712822656494, 0.9408500090683757, 0.9790025136843095, 0.9891163345317892], \"type\": \"scatter\", \"uid\": \"8042f8da-f20b-41f2-b703-412a2204d3c5\"}, {\"mode\": \"markers\", \"name\": \"423 \", \"x\": [21.894691, 22.29892, 22.477549, 21.871471, 22.112698], \"y\": [0.950146123431322, 0.9400407219077467, 0.9364426927925197, 0.902744259743669, 0.9319052476481923], \"type\": \"scatter\", \"uid\": \"a6de8638-687f-4bbd-8beb-28e56be3b687\"}, {\"mode\": \"markers\", \"name\": \"424 \", \"x\": [7.051557, 6.9870763, 7.0358224, 7.051557, 7.051557], \"y\": [0.9352346414540431, 0.9519852814860379, 0.9538563044761607, 0.9475264755980152, 0.9398401189812234], \"type\": \"scatter\", \"uid\": \"07fa51dd-62b9-444c-9abc-732bbe63145c\"}, {\"mode\": \"markers\", \"name\": \"425 \", \"x\": [11.061182, 11.445114, 10.917299, 10.871088, 11.0711155], \"y\": [0.9075655038102434, 0.9462082397443613, 0.9155870025514511, 0.9418449044950246, 0.9763549573204164], \"type\": \"scatter\", \"uid\": \"aadbe3cf-7da3-41c2-a21a-b83c67253c0c\"}, {\"mode\": \"markers\", \"name\": \"426 \", \"x\": [11.569998, 11.6655445, 13.191021, 11.620773, 11.5565405], \"y\": [0.9852641390465224, 0.9808032143007512, 0.9531521153651292, 0.9448331825533898, 0.9928562682572722], \"type\": \"scatter\", \"uid\": \"e629291a-0e0e-48c3-a371-2d3bd67f5aa4\"}, {\"mode\": \"markers\", \"name\": \"427\", \"x\": [14.126129, 13.195225, 14.024277, 15.389824, 16.645687], \"y\": [0.9181791440626885, 0.9532491338328903, 0.9633904453191325, 0.9790381635279595, 0.953411306042885], \"type\": \"scatter\", \"uid\": \"fe8fb768-8efa-40dd-9159-31f48d0bf889\"}, {\"mode\": \"markers\", \"name\": \"428 \", \"x\": [11.316113, 11.373832, 10.811983, 11.28607, 12.1676855], \"y\": [0.9555439694125826, 0.9654516756598025, 0.9196273072952078, 0.9667623463604917, 0.9635304392703309], \"type\": \"scatter\", \"uid\": \"5707c096-27ce-4589-93d7-9668d98271af\"}, {\"mode\": \"markers\", \"name\": \"429 \", \"x\": [14.260535, 14.454158, 14.85724, 14.665972, 15.062895], \"y\": [0.9553344568317346, 0.974798221981237, 0.9621386400914814, 0.9336971178397856, 0.916160394118737], \"type\": \"scatter\", \"uid\": \"3bf485dd-9701-4f08-9cbb-eb6b9da816d6\"}, {\"mode\": \"markers\", \"name\": \"430 \", \"x\": [15.342434, 18.367445, 16.03025, 17.086674, 17.073605], \"y\": [0.9443955734972184, 0.9184789949323889, 0.9667440552743954, 0.9868183394935468, 0.9022796707512951], \"type\": \"scatter\", \"uid\": \"8e8aa03f-1433-4864-9fbe-adc584d46365\"}, {\"mode\": \"markers\", \"name\": \"431 \", \"x\": [10.831484, 10.738638, 11.311753, 10.846091, 10.509848], \"y\": [0.9598413635980086, 0.9190922976216451, 0.9477096977096977, 0.9580545238339916, 0.9652096979037346], \"type\": \"scatter\", \"uid\": \"e3dd23e3-8450-41ee-a92d-2c6b43e45a56\"}, {\"mode\": \"markers\", \"name\": \"432 \", \"x\": [10.249755, 10.060238, 10.060238, 10.755975, 10.402788], \"y\": [0.9095337013076938, 0.9514690752352796, 0.9294832360117334, 0.9502064862114186, 0.9774705341469532], \"type\": \"scatter\", \"uid\": \"1328ada5-8bf4-4a81-8990-6f2f7ad344df\"}, {\"mode\": \"markers\", \"name\": \"433 \", \"x\": [11.00848, 10.134823, 13.207598, 12.748895, 12.488016], \"y\": [0.9431169497828831, 0.9525199264255059, 0.9294601461095129, 0.9304465128827736, 0.9600753164336274], \"type\": \"scatter\", \"uid\": \"7ca84d68-ff4a-4430-887a-69701599aea6\"}, {\"mode\": \"markers\", \"name\": \"434 \", \"x\": [8.6885, 8.796744, 8.614734, 9.010666, 8.655019], \"y\": [0.9308790675084992, 0.9166648926734078, 0.944462778019009, 0.9499624789101256, 0.9237363361196933], \"type\": \"scatter\", \"uid\": \"b93d00c9-2c59-4153-ac0a-fbb229646029\"}, {\"mode\": \"markers\", \"name\": \"435 \", \"x\": [11.504406, 11.204991, 11.6229105, 11.639069, 12.818815], \"y\": [0.9236984011231327, 0.9177015300646981, 0.8939801945346026, 0.7011458785336613, 0.8686981321738317], \"type\": \"scatter\", \"uid\": \"1ba08cb9-1e5f-46f2-857a-ea6ba9d25214\"}, {\"mode\": \"markers\", \"name\": \"436 \", \"x\": [9.749218, 10.594955, 9.71661, 9.994491, 9.840849], \"y\": [0.9992869228909838, 0.9451683766078094, 0.9495167769502072, 0.9142031262589639, 0.9780146368535434], \"type\": \"scatter\", \"uid\": \"7f6b2bd9-ef91-4070-a067-704e5f10b81c\"}, {\"mode\": \"markers\", \"name\": \"437 \", \"x\": [11.408407, 11.884956, 12.543911, 11.848943, 11.685851], \"y\": [0.9569681349125907, 0.9700335676128571, 0.920526482168003, 0.9321321321321322, 0.9552998152427269], \"type\": \"scatter\", \"uid\": \"602dd242-84bd-4127-8c2d-00093b63235e\"}, {\"mode\": \"markers\", \"name\": \"438 \", \"x\": [8.364754, 8.047753, 9.31339, 8.282791, 8.130077], \"y\": [0.958151199544018, 0.961394090175025, 0.9178545492270982, 0.9428651502639942, 0.9649119685241754], \"type\": \"scatter\", \"uid\": \"2eff141e-9f79-4667-bef1-a534360e2056\"}, {\"mode\": \"markers\", \"name\": \"439 \", \"x\": [12.565465, 12.000536, 12.176708, 14.079947, 12.096449], \"y\": [0.9108953582450379, 0.9426517497315886, 0.9392647503932281, 0.9072226574968805, 0.9281783361267559], \"type\": \"scatter\", \"uid\": \"6fd88844-0cb2-4bf3-b0b0-fa723033aa61\"}, {\"mode\": \"markers\", \"name\": \"440 \", \"x\": [9.2096, 10.244872, 9.155285, 8.934223, 9.336216], \"y\": [0.9598744962750375, 0.9255474146515308, 0.9832925515310798, 0.9713234265649945, 0.9537386253435635], \"type\": \"scatter\", \"uid\": \"2d59ae6e-37aa-4ff6-b10b-76fbea2d88b2\"}, {\"mode\": \"markers\", \"name\": \"441 \", \"x\": [15.223649, 15.223649, 15.070203, 15.615651, 15.628166], \"y\": [0.9437595838023897, 0.952442409103525, 0.9781397010659204, 0.954463682513946, 0.9942701416998652], \"type\": \"scatter\", \"uid\": \"8b441d17-a063-40d6-8994-b39108abb7f7\"}, {\"mode\": \"markers\", \"name\": \"442 \", \"x\": [8.1055975, 7.917472, 8.492267, 8.473166, 7.4189825], \"y\": [0.9591429128702388, 0.924280716784465, 0.9736651417323686, 0.9683501911302054, 0.9399389956290682], \"type\": \"scatter\", \"uid\": \"65158ef9-0015-43ba-9080-5bc15ed2d025\"}, {\"mode\": \"markers\", \"name\": \"443 \", \"x\": [8.465351, 8.766646, 8.132986, 8.506839, 8.339059], \"y\": [0.9632016210739615, 0.9414774401332969, 0.8314397103870789, 0.8962593770384868, 0.8854608354608355], \"type\": \"scatter\", \"uid\": \"0456afcf-0528-4834-a0ab-f299d13b77ba\"}, {\"mode\": \"markers\", \"name\": \"444 \", \"x\": [15.422307, 16.028015, 14.273998, 14.273998, 14.813602], \"y\": [0.9778754206308858, 0.9705967276227142, 0.9531318639703098, 0.9437887601689656, 0.9467235004641081], \"type\": \"scatter\", \"uid\": \"d2536f46-b9ce-4df8-ab62-df16f27bb4d9\"}, {\"mode\": \"markers\", \"name\": \"445\", \"x\": [12.182492, 11.761932, 11.761932, 11.703853, 11.523384], \"y\": [0.9789319483286721, 0.9534150218895981, 0.9104199718907072, 0.9624713631156929, 0.9897344930783554], \"type\": \"scatter\", \"uid\": \"311241a8-467b-47b3-89d7-9914635630c9\"}, {\"mode\": \"markers\", \"name\": \"446 \", \"x\": [9.289269, 9.475318, 9.588725, 9.375123, 9.262163], \"y\": [0.9620130102223176, 0.9329771855948714, 0.9719036209561149, 0.9327546508547792, 0.9404956040273811], \"type\": \"scatter\", \"uid\": \"4613d9f6-285a-49dc-a610-98bba0093036\"}, {\"mode\": \"markers\", \"name\": \"447 \", \"x\": [9.536487, 9.823916, 11.604546, 11.16242, 9.386312], \"y\": [0.9786033576232849, 0.9608355564075122, 0.9189596206078077, 0.9146561965166616, 0.9648280636972075], \"type\": \"scatter\", \"uid\": \"a9e121c5-b295-4eca-97ec-653ab56a11c5\"}, {\"mode\": \"markers\", \"name\": \"448 \", \"x\": [8.071614, 8.245427, 8.245427, 8.624012, 8.302617], \"y\": [0.9518108536764827, 0.9597381323379166, 0.8982293914175143, 0.8948550354796753, 0.95428871568324], \"type\": \"scatter\", \"uid\": \"c4e2a9b7-6659-4115-8de9-26235df4296e\"}, {\"mode\": \"markers\", \"name\": \"449 \", \"x\": [12.227402, 12.121614, 10.655716, 10.972245, 10.285263], \"y\": [0.921491193594198, 0.9984758950115724, 0.9552590727921124, 0.949300133642822, 0.9309123410674892], \"type\": \"scatter\", \"uid\": \"2d826c8f-fb5c-48df-a163-2d0d2905a220\"}], {\"title\": \"Consistancy scores across queries\", \"xaxis\": {\"title\": \"Document Ranker score\"}, \"yaxis\": {\"title\": \"Consistency score\"}}, {\"showLink\": true, \"linkText\": \"Export to plot.ly\"})});</script><script type=\"text/javascript\">window.addEventListener(\"resize\", function(){window._Plotly.Plots.resize(document.getElementById(\"577d2119-2bb7-4917-9a2f-0386f27769f1\"));});</script>"
      ],
      "text/vnd.plotly.v1+html": [
       "<div id=\"577d2119-2bb7-4917-9a2f-0386f27769f1\" style=\"height: 525px; width: 100%;\" class=\"plotly-graph-div\"></div><script type=\"text/javascript\">require([\"plotly\"], function(Plotly) { window.PLOTLYENV=window.PLOTLYENV || {};window.PLOTLYENV.BASE_URL=\"https://plot.ly\";Plotly.newPlot(\"577d2119-2bb7-4917-9a2f-0386f27769f1\", [{\"mode\": \"markers\", \"name\": \"401\", \"x\": [9.290847, 9.083562, 8.691005, 9.233107, 9.807556], \"y\": [0.9230878251036563, 0.9129161967575078, 0.9467481415912359, 0.7612239210065298, 0.8444912398921833], \"type\": \"scatter\", \"uid\": \"0dd07e3e-83b0-4961-965e-9a86e92134d0\"}, {\"mode\": \"markers\", \"name\": \"402\", \"x\": [9.914637, 9.987107, 10.390393, 9.990089, 11.674699], \"y\": [0.9554750932631116, 0.9661373516880659, 0.9223334801546517, 0.90412567036865, 0.9228568375089695], \"type\": \"scatter\", \"uid\": \"d66ea250-41f9-43f0-af8c-5f9d8a7f417d\"}, {\"mode\": \"markers\", \"name\": \"403 \", \"x\": [9.441388, 9.323615, 10.093675, 9.441388, 9.708849], \"y\": [0.9496347172500932, 0.9549042800192755, 0.9625905670803186, 0.9861686754167722, 0.9613477655438739], \"type\": \"scatter\", \"uid\": \"938eebe6-21e8-4f07-b054-4de5f03981b0\"}, {\"mode\": \"markers\", \"name\": \"404 \", \"x\": [11.890872, 10.673793, 11.085657, 10.767681, 10.700646], \"y\": [0.921531388951692, 0.7982878280782104, 0.9207970928154414, 0.9348332957591243, 0.9520523397517038], \"type\": \"scatter\", \"uid\": \"b043ad00-c613-4030-b85d-45cc618c700e\"}, {\"mode\": \"markers\", \"name\": \"405 \", \"x\": [10.533146, 12.6898575, 10.375032, 11.0759945, 10.119149], \"y\": [0.8806168901551515, 0.9543293311285259, 0.9080642294246608, 0.9372414139890382, 0.969174964924888], \"type\": \"scatter\", \"uid\": \"5af2ec20-bdc1-42e9-8a9c-0c8425e30155\"}, {\"mode\": \"markers\", \"name\": \"406 \", \"x\": [13.775206, 13.43512, 13.305286, 13.344221, 14.436002], \"y\": [0.9943894389438944, 0.9786254509495119, 0.9315455584802319, 0.9698993845442896, 0.9040159493284494], \"type\": \"scatter\", \"uid\": \"e53999d7-fb19-4336-91cc-3bf16fc394aa\"}, {\"mode\": \"markers\", \"name\": \"407 \", \"x\": [13.190692, 13.210795, 13.210795, 13.370525, 15.4146805], \"y\": [0.9658377783551637, 0.9441271296008379, 0.9808964229452158, 0.92070636786794, 0.9229120133810645], \"type\": \"scatter\", \"uid\": \"27c45ed9-59a5-45d5-b2e8-2fff77dc94b0\"}, {\"mode\": \"markers\", \"name\": \"408 \", \"x\": [13.408705, 14.307083, 14.284037, 13.61459, 13.408705], \"y\": [0.9646839826839827, 0.9057329822954822, 0.9669823200239422, 0.8579437980540248, 0.9740020417787313], \"type\": \"scatter\", \"uid\": \"8ff21580-e266-4d70-9895-484075212dd3\"}, {\"mode\": \"markers\", \"name\": \"409 \", \"x\": [12.870329, 11.633671, 13.520545, 11.176984, 11.46385], \"y\": [0.9630214564887932, 0.9881280500173009, 0.9406158598705183, 0.8428606815527796, 0.9646632731025313], \"type\": \"scatter\", \"uid\": \"72a1e385-2b15-45c4-b72c-7dfc5cdbfe38\"}, {\"mode\": \"markers\", \"name\": \"410 \", \"x\": [10.944582, 11.296025, 12.05719, 11.077779, 10.917326], \"y\": [0.8837157359331418, 0.9814450332239886, 0.9426051666276438, 0.9202185268605932, 0.9259519590177361], \"type\": \"scatter\", \"uid\": \"48bc6a0d-8d8d-4b0e-b751-1b936fc8cc19\"}, {\"mode\": \"markers\", \"name\": \"411 \", \"x\": [17.11045, 15.800142, 15.266436, 15.5291195, 18.396696], \"y\": [0.9623859502307147, 0.9335750750980482, 0.9566632951394655, 0.9547113543555247, 0.9556582284615758], \"type\": \"scatter\", \"uid\": \"9f6675ef-2910-4a29-bd06-9e67c9a9b88c\"}, {\"mode\": \"markers\", \"name\": \"412 \", \"x\": [7.752486, 8.080351, 7.5650406, 8.027657, 8.366061], \"y\": [0.9873672980698428, 0.9612405544870785, 0.9883135655108156, 0.949761997369932, 0.9386428745202595], \"type\": \"scatter\", \"uid\": \"5d6bfa80-8188-4a3f-b196-a0583aeda3e4\"}, {\"mode\": \"markers\", \"name\": \"413 \", \"x\": [8.363681, 8.378071, 8.3462105, 8.786941, 8.498466], \"y\": [0.9277794074508654, 0.9872297804017497, 0.9227080258880946, 0.9282915492261288, 0.9233293317326932], \"type\": \"scatter\", \"uid\": \"ec086d82-35ad-4ddf-a641-f9d64e7b1ee7\"}, {\"mode\": \"markers\", \"name\": \"414 \", \"x\": [13.446551, 13.95374, 13.357056, 14.256916, 13.594603], \"y\": [0.9513792622226356, 0.9591945678795079, 0.9423015708255484, 0.9375488229705479, 0.9286568044581737], \"type\": \"scatter\", \"uid\": \"bd3d2232-d8a2-4c90-a1d3-5d9539fa8aca\"}, {\"mode\": \"markers\", \"name\": \"415 \", \"x\": [15.317625, 16.679523, 14.74885, 14.865173, 16.829954], \"y\": [0.9401841922520862, 0.9562632891254799, 0.8759455341472355, 0.8643211997513572, 0.9338755707762557], \"type\": \"scatter\", \"uid\": \"ca55871b-d3e2-4f62-a595-3a61d37673c8\"}, {\"mode\": \"markers\", \"name\": \"416 \", \"x\": [11.684843, 11.3775835, 11.886904, 11.393773, 11.587604], \"y\": [0.9160379854761413, 0.9266180424545819, 0.9921139803218935, 0.9261934412619344, 0.9340562051953009], \"type\": \"scatter\", \"uid\": \"92ee3b77-66ec-437f-bbe3-d2ec9012dcdc\"}, {\"mode\": \"markers\", \"name\": \"417 \", \"x\": [6.510442, 6.223255, 6.203093, 6.3569546, 6.5508046], \"y\": [0.9532230275968233, 0.9667997870074548, 0.9560247793126051, 0.9531073201082316, 0.9802579067787339], \"type\": \"scatter\", \"uid\": \"a84e4c2f-5d56-4497-86cc-d7946efb6ba9\"}, {\"mode\": \"markers\", \"name\": \"418 \", \"x\": [9.041793, 9.578237, 9.031743, 9.041793, 9.719133], \"y\": [0.9310833522598229, 0.9307176756149693, 0.9495790489501182, 0.9398348957604589, 0.9125401246849715], \"type\": \"scatter\", \"uid\": \"686fd24e-eb22-4c8c-bcb2-81166dfa5b09\"}, {\"mode\": \"markers\", \"name\": \"419 \", \"x\": [14.377756, 14.722347, 12.673786, 12.07088, 13.241081], \"y\": [0.9647055369620104, 0.9973820414682972, 0.9723272851179828, 0.9741365145091853, 0.9663637029978744], \"type\": \"scatter\", \"uid\": \"22c69658-da31-407d-8edb-2995ffcfaa3e\"}, {\"mode\": \"markers\", \"name\": \"420 \", \"x\": [19.058653, 20.386726, 18.77626, 18.654099, 20.49439], \"y\": [0.9212015647754204, 0.9768530063221509, 0.9566508345194117, 0.9400238656182114, 0.9429104601952748], \"type\": \"scatter\", \"uid\": \"330d8dc7-c593-48b0-bedc-c793bb5274e7\"}, {\"mode\": \"markers\", \"name\": \"421 \", \"x\": [10.826214, 11.026218, 12.33889, 11.8105, 11.001229], \"y\": [0.9408178257963666, 0.9398416778879504, 0.9437305936802637, 0.9402822586810599, 0.903771386777421], \"type\": \"scatter\", \"uid\": \"9f98a855-e2eb-48e0-91cf-77cc6208047c\"}, {\"mode\": \"markers\", \"name\": \"422 \", \"x\": [10.959179, 11.491346, 12.381614, 12.604323, 10.825184], \"y\": [0.9435612897475322, 0.9691712822656494, 0.9408500090683757, 0.9790025136843095, 0.9891163345317892], \"type\": \"scatter\", \"uid\": \"8042f8da-f20b-41f2-b703-412a2204d3c5\"}, {\"mode\": \"markers\", \"name\": \"423 \", \"x\": [21.894691, 22.29892, 22.477549, 21.871471, 22.112698], \"y\": [0.950146123431322, 0.9400407219077467, 0.9364426927925197, 0.902744259743669, 0.9319052476481923], \"type\": \"scatter\", \"uid\": \"a6de8638-687f-4bbd-8beb-28e56be3b687\"}, {\"mode\": \"markers\", \"name\": \"424 \", \"x\": [7.051557, 6.9870763, 7.0358224, 7.051557, 7.051557], \"y\": [0.9352346414540431, 0.9519852814860379, 0.9538563044761607, 0.9475264755980152, 0.9398401189812234], \"type\": \"scatter\", \"uid\": \"07fa51dd-62b9-444c-9abc-732bbe63145c\"}, {\"mode\": \"markers\", \"name\": \"425 \", \"x\": [11.061182, 11.445114, 10.917299, 10.871088, 11.0711155], \"y\": [0.9075655038102434, 0.9462082397443613, 0.9155870025514511, 0.9418449044950246, 0.9763549573204164], \"type\": \"scatter\", \"uid\": \"aadbe3cf-7da3-41c2-a21a-b83c67253c0c\"}, {\"mode\": \"markers\", \"name\": \"426 \", \"x\": [11.569998, 11.6655445, 13.191021, 11.620773, 11.5565405], \"y\": [0.9852641390465224, 0.9808032143007512, 0.9531521153651292, 0.9448331825533898, 0.9928562682572722], \"type\": \"scatter\", \"uid\": \"e629291a-0e0e-48c3-a371-2d3bd67f5aa4\"}, {\"mode\": \"markers\", \"name\": \"427\", \"x\": [14.126129, 13.195225, 14.024277, 15.389824, 16.645687], \"y\": [0.9181791440626885, 0.9532491338328903, 0.9633904453191325, 0.9790381635279595, 0.953411306042885], \"type\": \"scatter\", \"uid\": \"fe8fb768-8efa-40dd-9159-31f48d0bf889\"}, {\"mode\": \"markers\", \"name\": \"428 \", \"x\": [11.316113, 11.373832, 10.811983, 11.28607, 12.1676855], \"y\": [0.9555439694125826, 0.9654516756598025, 0.9196273072952078, 0.9667623463604917, 0.9635304392703309], \"type\": \"scatter\", \"uid\": \"5707c096-27ce-4589-93d7-9668d98271af\"}, {\"mode\": \"markers\", \"name\": \"429 \", \"x\": [14.260535, 14.454158, 14.85724, 14.665972, 15.062895], \"y\": [0.9553344568317346, 0.974798221981237, 0.9621386400914814, 0.9336971178397856, 0.916160394118737], \"type\": \"scatter\", \"uid\": \"3bf485dd-9701-4f08-9cbb-eb6b9da816d6\"}, {\"mode\": \"markers\", \"name\": \"430 \", \"x\": [15.342434, 18.367445, 16.03025, 17.086674, 17.073605], \"y\": [0.9443955734972184, 0.9184789949323889, 0.9667440552743954, 0.9868183394935468, 0.9022796707512951], \"type\": \"scatter\", \"uid\": \"8e8aa03f-1433-4864-9fbe-adc584d46365\"}, {\"mode\": \"markers\", \"name\": \"431 \", \"x\": [10.831484, 10.738638, 11.311753, 10.846091, 10.509848], \"y\": [0.9598413635980086, 0.9190922976216451, 0.9477096977096977, 0.9580545238339916, 0.9652096979037346], \"type\": \"scatter\", \"uid\": \"e3dd23e3-8450-41ee-a92d-2c6b43e45a56\"}, {\"mode\": \"markers\", \"name\": \"432 \", \"x\": [10.249755, 10.060238, 10.060238, 10.755975, 10.402788], \"y\": [0.9095337013076938, 0.9514690752352796, 0.9294832360117334, 0.9502064862114186, 0.9774705341469532], \"type\": \"scatter\", \"uid\": \"1328ada5-8bf4-4a81-8990-6f2f7ad344df\"}, {\"mode\": \"markers\", \"name\": \"433 \", \"x\": [11.00848, 10.134823, 13.207598, 12.748895, 12.488016], \"y\": [0.9431169497828831, 0.9525199264255059, 0.9294601461095129, 0.9304465128827736, 0.9600753164336274], \"type\": \"scatter\", \"uid\": \"7ca84d68-ff4a-4430-887a-69701599aea6\"}, {\"mode\": \"markers\", \"name\": \"434 \", \"x\": [8.6885, 8.796744, 8.614734, 9.010666, 8.655019], \"y\": [0.9308790675084992, 0.9166648926734078, 0.944462778019009, 0.9499624789101256, 0.9237363361196933], \"type\": \"scatter\", \"uid\": \"b93d00c9-2c59-4153-ac0a-fbb229646029\"}, {\"mode\": \"markers\", \"name\": \"435 \", \"x\": [11.504406, 11.204991, 11.6229105, 11.639069, 12.818815], \"y\": [0.9236984011231327, 0.9177015300646981, 0.8939801945346026, 0.7011458785336613, 0.8686981321738317], \"type\": \"scatter\", \"uid\": \"1ba08cb9-1e5f-46f2-857a-ea6ba9d25214\"}, {\"mode\": \"markers\", \"name\": \"436 \", \"x\": [9.749218, 10.594955, 9.71661, 9.994491, 9.840849], \"y\": [0.9992869228909838, 0.9451683766078094, 0.9495167769502072, 0.9142031262589639, 0.9780146368535434], \"type\": \"scatter\", \"uid\": \"7f6b2bd9-ef91-4070-a067-704e5f10b81c\"}, {\"mode\": \"markers\", \"name\": \"437 \", \"x\": [11.408407, 11.884956, 12.543911, 11.848943, 11.685851], \"y\": [0.9569681349125907, 0.9700335676128571, 0.920526482168003, 0.9321321321321322, 0.9552998152427269], \"type\": \"scatter\", \"uid\": \"602dd242-84bd-4127-8c2d-00093b63235e\"}, {\"mode\": \"markers\", \"name\": \"438 \", \"x\": [8.364754, 8.047753, 9.31339, 8.282791, 8.130077], \"y\": [0.958151199544018, 0.961394090175025, 0.9178545492270982, 0.9428651502639942, 0.9649119685241754], \"type\": \"scatter\", \"uid\": \"2eff141e-9f79-4667-bef1-a534360e2056\"}, {\"mode\": \"markers\", \"name\": \"439 \", \"x\": [12.565465, 12.000536, 12.176708, 14.079947, 12.096449], \"y\": [0.9108953582450379, 0.9426517497315886, 0.9392647503932281, 0.9072226574968805, 0.9281783361267559], \"type\": \"scatter\", \"uid\": \"6fd88844-0cb2-4bf3-b0b0-fa723033aa61\"}, {\"mode\": \"markers\", \"name\": \"440 \", \"x\": [9.2096, 10.244872, 9.155285, 8.934223, 9.336216], \"y\": [0.9598744962750375, 0.9255474146515308, 0.9832925515310798, 0.9713234265649945, 0.9537386253435635], \"type\": \"scatter\", \"uid\": \"2d59ae6e-37aa-4ff6-b10b-76fbea2d88b2\"}, {\"mode\": \"markers\", \"name\": \"441 \", \"x\": [15.223649, 15.223649, 15.070203, 15.615651, 15.628166], \"y\": [0.9437595838023897, 0.952442409103525, 0.9781397010659204, 0.954463682513946, 0.9942701416998652], \"type\": \"scatter\", \"uid\": \"8b441d17-a063-40d6-8994-b39108abb7f7\"}, {\"mode\": \"markers\", \"name\": \"442 \", \"x\": [8.1055975, 7.917472, 8.492267, 8.473166, 7.4189825], \"y\": [0.9591429128702388, 0.924280716784465, 0.9736651417323686, 0.9683501911302054, 0.9399389956290682], \"type\": \"scatter\", \"uid\": \"65158ef9-0015-43ba-9080-5bc15ed2d025\"}, {\"mode\": \"markers\", \"name\": \"443 \", \"x\": [8.465351, 8.766646, 8.132986, 8.506839, 8.339059], \"y\": [0.9632016210739615, 0.9414774401332969, 0.8314397103870789, 0.8962593770384868, 0.8854608354608355], \"type\": \"scatter\", \"uid\": \"0456afcf-0528-4834-a0ab-f299d13b77ba\"}, {\"mode\": \"markers\", \"name\": \"444 \", \"x\": [15.422307, 16.028015, 14.273998, 14.273998, 14.813602], \"y\": [0.9778754206308858, 0.9705967276227142, 0.9531318639703098, 0.9437887601689656, 0.9467235004641081], \"type\": \"scatter\", \"uid\": \"d2536f46-b9ce-4df8-ab62-df16f27bb4d9\"}, {\"mode\": \"markers\", \"name\": \"445\", \"x\": [12.182492, 11.761932, 11.761932, 11.703853, 11.523384], \"y\": [0.9789319483286721, 0.9534150218895981, 0.9104199718907072, 0.9624713631156929, 0.9897344930783554], \"type\": \"scatter\", \"uid\": \"311241a8-467b-47b3-89d7-9914635630c9\"}, {\"mode\": \"markers\", \"name\": \"446 \", \"x\": [9.289269, 9.475318, 9.588725, 9.375123, 9.262163], \"y\": [0.9620130102223176, 0.9329771855948714, 0.9719036209561149, 0.9327546508547792, 0.9404956040273811], \"type\": \"scatter\", \"uid\": \"4613d9f6-285a-49dc-a610-98bba0093036\"}, {\"mode\": \"markers\", \"name\": \"447 \", \"x\": [9.536487, 9.823916, 11.604546, 11.16242, 9.386312], \"y\": [0.9786033576232849, 0.9608355564075122, 0.9189596206078077, 0.9146561965166616, 0.9648280636972075], \"type\": \"scatter\", \"uid\": \"a9e121c5-b295-4eca-97ec-653ab56a11c5\"}, {\"mode\": \"markers\", \"name\": \"448 \", \"x\": [8.071614, 8.245427, 8.245427, 8.624012, 8.302617], \"y\": [0.9518108536764827, 0.9597381323379166, 0.8982293914175143, 0.8948550354796753, 0.95428871568324], \"type\": \"scatter\", \"uid\": \"c4e2a9b7-6659-4115-8de9-26235df4296e\"}, {\"mode\": \"markers\", \"name\": \"449 \", \"x\": [12.227402, 12.121614, 10.655716, 10.972245, 10.285263], \"y\": [0.921491193594198, 0.9984758950115724, 0.9552590727921124, 0.949300133642822, 0.9309123410674892], \"type\": \"scatter\", \"uid\": \"2d826c8f-fb5c-48df-a163-2d0d2905a220\"}], {\"title\": \"Consistancy scores across queries\", \"xaxis\": {\"title\": \"Document Ranker score\"}, \"yaxis\": {\"title\": \"Consistency score\"}}, {\"showLink\": true, \"linkText\": \"Export to plot.ly\"})});</script><script type=\"text/javascript\">window.addEventListener(\"resize\", function(){window._Plotly.Plots.resize(document.getElementById(\"577d2119-2bb7-4917-9a2f-0386f27769f1\"));});</script>"
      ]
     },
     "metadata": {},
     "output_type": "display_data"
    }
   ],
   "source": [
    "init_notebook_mode(connected=True)\n",
    "data = []\n",
    "for q in query_consistancy_frame['query_id'].unique():\n",
    "    trace = go.Scatter(\n",
    "        x = query_consistancy_frame[query_consistancy_frame['query_id'] == q]['doc_score'],\n",
    "        y = query_consistancy_frame[query_consistancy_frame['query_id'] == q]['ktau'],\n",
    "        mode = 'markers', name = q)\n",
    "    data.append(trace)\n",
    "\n",
    "layout = dict(title = 'Consistancy scores across queries',\n",
    "              yaxis = dict(title ='Consistency score' ),\n",
    "              xaxis = dict(title = \"Document Ranker score\")\n",
    "             )\n",
    "iplot(go.Figure(data=data, layout=layout))"
   ]
  },
  {
   "cell_type": "code",
   "execution_count": null,
   "metadata": {},
   "outputs": [],
   "source": [
    "L = sorted([(k, k1['doc_id'], k1['doc_score'], k1['dfr'], k1['ne'], k1['pe'], k1['kernel'],\\\n",
    "             k1['doc_rel'], k1['top_feat']) for k,v in divergence_scores.items() for k1 in v], \n",
    "            key=lambda x: (x[0], x[1]))\n",
    "df = pd.DataFrame(L, columns=['query_id','doc_id','doc_score', 'dfr','ne','pe', 'kernel',\\\n",
    "                                                   'doc_rel', 'top_feat'])\n",
    "df.to_csv('divergence_score.csv', sep=',')"
   ]
  },
  {
   "cell_type": "code",
   "execution_count": 15,
   "metadata": {
    "scrolled": false
   },
   "outputs": [
    {
     "name": "stdout",
     "output_type": "stream",
     "text": [
      "uniform_mask_0.3_kendal_score20.csv nan\n",
      "uniform_mask_0.3_kendal_score20.csv doc_rel\n",
      "0   NaN\n",
      "1   NaN\n",
      "Name: ktau, dtype: float64\n",
      "uniform_mask_0.3_divergence_scores15.csv\n",
      "kernel\n",
      "1    0.923827\n",
      "Name: dfr, dtype: float64\n",
      "uniform_mask_0.3_divergence_scores10.csv\n",
      "kernel\n",
      "1    0.912261\n",
      "Name: dfr, dtype: float64\n",
      "uniform_mask_0.3_kendal_score25.csv nan\n",
      "uniform_mask_0.3_kendal_score25.csv doc_rel\n",
      "0   NaN\n",
      "1   NaN\n",
      "Name: ktau, dtype: float64\n",
      "uniform_mask_0.3_kendal_score30.csv nan\n",
      "uniform_mask_0.3_kendal_score30.csv doc_rel\n",
      "0   NaN\n",
      "1   NaN\n",
      "Name: ktau, dtype: float64\n",
      "uniform_mask_0.3_kendal_score15.csv nan\n",
      "uniform_mask_0.3_kendal_score15.csv doc_rel\n",
      "0   NaN\n",
      "1   NaN\n",
      "Name: ktau, dtype: float64\n",
      "uniform_mask_0.3_divergence_scores20.csv\n",
      "kernel\n",
      "1    0.932301\n",
      "Name: dfr, dtype: float64\n",
      "uniform_mask_0.3_divergence_scores30.csv\n",
      "kernel\n",
      "1    0.94441\n",
      "Name: dfr, dtype: float64\n",
      "uniform_mask_0.3_divergence_scores25.csv\n",
      "kernel\n",
      "1    0.9396\n",
      "Name: dfr, dtype: float64\n",
      "uniform_mask_0.3_kendal_score10.csv nan\n",
      "uniform_mask_0.3_kendal_score10.csv doc_rel\n",
      "0   NaN\n",
      "1   NaN\n",
      "Name: ktau, dtype: float64\n"
     ]
    },
    {
     "ename": "ParserError",
     "evalue": "Error tokenizing data. C error: Expected 1 fields in line 6, saw 320\n",
     "output_type": "error",
     "traceback": [
      "\u001b[0;31m---------------------------------------------------------------------------\u001b[0m",
      "\u001b[0;31mParserError\u001b[0m                               Traceback (most recent call last)",
      "\u001b[0;32m<ipython-input-15-c839538398dd>\u001b[0m in \u001b[0;36m<module>\u001b[0;34m\u001b[0m\n\u001b[1;32m     12\u001b[0m         \u001b[0mprint\u001b[0m\u001b[0;34m(\u001b[0m\u001b[0mifile\u001b[0m\u001b[0;34m,\u001b[0m \u001b[0mframe\u001b[0m\u001b[0;34m.\u001b[0m\u001b[0mgroupby\u001b[0m\u001b[0;34m(\u001b[0m\u001b[0;34m'doc_rel'\u001b[0m\u001b[0;34m)\u001b[0m\u001b[0;34m[\u001b[0m\u001b[0;34m'ktau'\u001b[0m\u001b[0;34m]\u001b[0m\u001b[0;34m.\u001b[0m\u001b[0magg\u001b[0m\u001b[0;34m(\u001b[0m\u001b[0mnp\u001b[0m\u001b[0;34m.\u001b[0m\u001b[0mmean\u001b[0m\u001b[0;34m)\u001b[0m\u001b[0;34m)\u001b[0m\u001b[0;34m\u001b[0m\u001b[0;34m\u001b[0m\u001b[0m\n\u001b[1;32m     13\u001b[0m     \u001b[0;32melse\u001b[0m\u001b[0;34m:\u001b[0m\u001b[0;34m\u001b[0m\u001b[0;34m\u001b[0m\u001b[0m\n\u001b[0;32m---> 14\u001b[0;31m         \u001b[0mframe\u001b[0m \u001b[0;34m=\u001b[0m \u001b[0mpd\u001b[0m\u001b[0;34m.\u001b[0m\u001b[0mread_csv\u001b[0m\u001b[0;34m(\u001b[0m\u001b[0mdpath\u001b[0m\u001b[0;34m+\u001b[0m\u001b[0;34m'/'\u001b[0m\u001b[0;34m+\u001b[0m\u001b[0mifile\u001b[0m\u001b[0;34m,\u001b[0m \u001b[0msep\u001b[0m\u001b[0;34m=\u001b[0m\u001b[0;34m','\u001b[0m\u001b[0;34m)\u001b[0m\u001b[0;34m\u001b[0m\u001b[0;34m\u001b[0m\u001b[0m\n\u001b[0m\u001b[1;32m     15\u001b[0m         \u001b[0mprint\u001b[0m\u001b[0;34m(\u001b[0m\u001b[0mifile\u001b[0m\u001b[0;34m)\u001b[0m\u001b[0;34m\u001b[0m\u001b[0;34m\u001b[0m\u001b[0m\n\u001b[1;32m     16\u001b[0m         \u001b[0mprint\u001b[0m\u001b[0;34m(\u001b[0m\u001b[0mframe\u001b[0m\u001b[0;34m[\u001b[0m\u001b[0mframe\u001b[0m\u001b[0;34m[\u001b[0m\u001b[0;34m'kernel'\u001b[0m\u001b[0;34m]\u001b[0m\u001b[0;34m.\u001b[0m\u001b[0misin\u001b[0m\u001b[0;34m(\u001b[0m\u001b[0;34m[\u001b[0m\u001b[0;36m1\u001b[0m\u001b[0;34m,\u001b[0m\u001b[0;36m10\u001b[0m\u001b[0;34m,\u001b[0m\u001b[0;36m100\u001b[0m\u001b[0;34m,\u001b[0m\u001b[0;36m1000.0\u001b[0m\u001b[0;34m,\u001b[0m\u001b[0;36m10000.0\u001b[0m\u001b[0;34m,\u001b[0m\u001b[0;36m1000000.0\u001b[0m\u001b[0;34m]\u001b[0m\u001b[0;34m)\u001b[0m\u001b[0;34m]\u001b[0m\u001b[0;34m.\u001b[0m\u001b[0mgroupby\u001b[0m\u001b[0;34m(\u001b[0m\u001b[0;34m[\u001b[0m\u001b[0;34m'kernel'\u001b[0m\u001b[0;34m]\u001b[0m\u001b[0;34m)\u001b[0m\u001b[0;34m[\u001b[0m\u001b[0;34m'dfr'\u001b[0m\u001b[0;34m]\u001b[0m\u001b[0;34m.\u001b[0m\u001b[0magg\u001b[0m\u001b[0;34m(\u001b[0m\u001b[0mnp\u001b[0m\u001b[0;34m.\u001b[0m\u001b[0mmean\u001b[0m\u001b[0;34m)\u001b[0m\u001b[0;34m)\u001b[0m\u001b[0;34m\u001b[0m\u001b[0;34m\u001b[0m\u001b[0m\n",
      "\u001b[0;32m/Library/Frameworks/Python.framework/Versions/3.7/lib/python3.7/site-packages/pandas/io/parsers.py\u001b[0m in \u001b[0;36mparser_f\u001b[0;34m(filepath_or_buffer, sep, delimiter, header, names, index_col, usecols, squeeze, prefix, mangle_dupe_cols, dtype, engine, converters, true_values, false_values, skipinitialspace, skiprows, nrows, na_values, keep_default_na, na_filter, verbose, skip_blank_lines, parse_dates, infer_datetime_format, keep_date_col, date_parser, dayfirst, iterator, chunksize, compression, thousands, decimal, lineterminator, quotechar, quoting, escapechar, comment, encoding, dialect, tupleize_cols, error_bad_lines, warn_bad_lines, skipfooter, doublequote, delim_whitespace, low_memory, memory_map, float_precision)\u001b[0m\n\u001b[1;32m    676\u001b[0m                     skip_blank_lines=skip_blank_lines)\n\u001b[1;32m    677\u001b[0m \u001b[0;34m\u001b[0m\u001b[0m\n\u001b[0;32m--> 678\u001b[0;31m         \u001b[0;32mreturn\u001b[0m \u001b[0m_read\u001b[0m\u001b[0;34m(\u001b[0m\u001b[0mfilepath_or_buffer\u001b[0m\u001b[0;34m,\u001b[0m \u001b[0mkwds\u001b[0m\u001b[0;34m)\u001b[0m\u001b[0;34m\u001b[0m\u001b[0;34m\u001b[0m\u001b[0m\n\u001b[0m\u001b[1;32m    679\u001b[0m \u001b[0;34m\u001b[0m\u001b[0m\n\u001b[1;32m    680\u001b[0m     \u001b[0mparser_f\u001b[0m\u001b[0;34m.\u001b[0m\u001b[0m__name__\u001b[0m \u001b[0;34m=\u001b[0m \u001b[0mname\u001b[0m\u001b[0;34m\u001b[0m\u001b[0;34m\u001b[0m\u001b[0m\n",
      "\u001b[0;32m/Library/Frameworks/Python.framework/Versions/3.7/lib/python3.7/site-packages/pandas/io/parsers.py\u001b[0m in \u001b[0;36m_read\u001b[0;34m(filepath_or_buffer, kwds)\u001b[0m\n\u001b[1;32m    444\u001b[0m \u001b[0;34m\u001b[0m\u001b[0m\n\u001b[1;32m    445\u001b[0m     \u001b[0;32mtry\u001b[0m\u001b[0;34m:\u001b[0m\u001b[0;34m\u001b[0m\u001b[0;34m\u001b[0m\u001b[0m\n\u001b[0;32m--> 446\u001b[0;31m         \u001b[0mdata\u001b[0m \u001b[0;34m=\u001b[0m \u001b[0mparser\u001b[0m\u001b[0;34m.\u001b[0m\u001b[0mread\u001b[0m\u001b[0;34m(\u001b[0m\u001b[0mnrows\u001b[0m\u001b[0;34m)\u001b[0m\u001b[0;34m\u001b[0m\u001b[0;34m\u001b[0m\u001b[0m\n\u001b[0m\u001b[1;32m    447\u001b[0m     \u001b[0;32mfinally\u001b[0m\u001b[0;34m:\u001b[0m\u001b[0;34m\u001b[0m\u001b[0;34m\u001b[0m\u001b[0m\n\u001b[1;32m    448\u001b[0m         \u001b[0mparser\u001b[0m\u001b[0;34m.\u001b[0m\u001b[0mclose\u001b[0m\u001b[0;34m(\u001b[0m\u001b[0;34m)\u001b[0m\u001b[0;34m\u001b[0m\u001b[0;34m\u001b[0m\u001b[0m\n",
      "\u001b[0;32m/Library/Frameworks/Python.framework/Versions/3.7/lib/python3.7/site-packages/pandas/io/parsers.py\u001b[0m in \u001b[0;36mread\u001b[0;34m(self, nrows)\u001b[0m\n\u001b[1;32m   1034\u001b[0m                 \u001b[0;32mraise\u001b[0m \u001b[0mValueError\u001b[0m\u001b[0;34m(\u001b[0m\u001b[0;34m'skipfooter not supported for iteration'\u001b[0m\u001b[0;34m)\u001b[0m\u001b[0;34m\u001b[0m\u001b[0;34m\u001b[0m\u001b[0m\n\u001b[1;32m   1035\u001b[0m \u001b[0;34m\u001b[0m\u001b[0m\n\u001b[0;32m-> 1036\u001b[0;31m         \u001b[0mret\u001b[0m \u001b[0;34m=\u001b[0m \u001b[0mself\u001b[0m\u001b[0;34m.\u001b[0m\u001b[0m_engine\u001b[0m\u001b[0;34m.\u001b[0m\u001b[0mread\u001b[0m\u001b[0;34m(\u001b[0m\u001b[0mnrows\u001b[0m\u001b[0;34m)\u001b[0m\u001b[0;34m\u001b[0m\u001b[0;34m\u001b[0m\u001b[0m\n\u001b[0m\u001b[1;32m   1037\u001b[0m \u001b[0;34m\u001b[0m\u001b[0m\n\u001b[1;32m   1038\u001b[0m         \u001b[0;31m# May alter columns / col_dict\u001b[0m\u001b[0;34m\u001b[0m\u001b[0;34m\u001b[0m\u001b[0;34m\u001b[0m\u001b[0m\n",
      "\u001b[0;32m/Library/Frameworks/Python.framework/Versions/3.7/lib/python3.7/site-packages/pandas/io/parsers.py\u001b[0m in \u001b[0;36mread\u001b[0;34m(self, nrows)\u001b[0m\n\u001b[1;32m   1846\u001b[0m     \u001b[0;32mdef\u001b[0m \u001b[0mread\u001b[0m\u001b[0;34m(\u001b[0m\u001b[0mself\u001b[0m\u001b[0;34m,\u001b[0m \u001b[0mnrows\u001b[0m\u001b[0;34m=\u001b[0m\u001b[0;32mNone\u001b[0m\u001b[0;34m)\u001b[0m\u001b[0;34m:\u001b[0m\u001b[0;34m\u001b[0m\u001b[0;34m\u001b[0m\u001b[0m\n\u001b[1;32m   1847\u001b[0m         \u001b[0;32mtry\u001b[0m\u001b[0;34m:\u001b[0m\u001b[0;34m\u001b[0m\u001b[0;34m\u001b[0m\u001b[0m\n\u001b[0;32m-> 1848\u001b[0;31m             \u001b[0mdata\u001b[0m \u001b[0;34m=\u001b[0m \u001b[0mself\u001b[0m\u001b[0;34m.\u001b[0m\u001b[0m_reader\u001b[0m\u001b[0;34m.\u001b[0m\u001b[0mread\u001b[0m\u001b[0;34m(\u001b[0m\u001b[0mnrows\u001b[0m\u001b[0;34m)\u001b[0m\u001b[0;34m\u001b[0m\u001b[0;34m\u001b[0m\u001b[0m\n\u001b[0m\u001b[1;32m   1849\u001b[0m         \u001b[0;32mexcept\u001b[0m \u001b[0mStopIteration\u001b[0m\u001b[0;34m:\u001b[0m\u001b[0;34m\u001b[0m\u001b[0;34m\u001b[0m\u001b[0m\n\u001b[1;32m   1850\u001b[0m             \u001b[0;32mif\u001b[0m \u001b[0mself\u001b[0m\u001b[0;34m.\u001b[0m\u001b[0m_first_chunk\u001b[0m\u001b[0;34m:\u001b[0m\u001b[0;34m\u001b[0m\u001b[0;34m\u001b[0m\u001b[0m\n",
      "\u001b[0;32mpandas/_libs/parsers.pyx\u001b[0m in \u001b[0;36mpandas._libs.parsers.TextReader.read\u001b[0;34m()\u001b[0m\n",
      "\u001b[0;32mpandas/_libs/parsers.pyx\u001b[0m in \u001b[0;36mpandas._libs.parsers.TextReader._read_low_memory\u001b[0;34m()\u001b[0m\n",
      "\u001b[0;32mpandas/_libs/parsers.pyx\u001b[0m in \u001b[0;36mpandas._libs.parsers.TextReader._read_rows\u001b[0;34m()\u001b[0m\n",
      "\u001b[0;32mpandas/_libs/parsers.pyx\u001b[0m in \u001b[0;36mpandas._libs.parsers.TextReader._tokenize_rows\u001b[0;34m()\u001b[0m\n",
      "\u001b[0;32mpandas/_libs/parsers.pyx\u001b[0m in \u001b[0;36mpandas._libs.parsers.raise_parser_error\u001b[0;34m()\u001b[0m\n",
      "\u001b[0;31mParserError\u001b[0m: Error tokenizing data. C error: Expected 1 fields in line 6, saw 320\n"
     ]
    },
    {
     "data": {
      "image/png": "[encoded data removed]",
      "text/plain": [
       "<Figure size 1080x504 with 1 Axes>"
      ]
     },
     "metadata": {},
     "output_type": "display_data"
    },
    {
     "data": {
      "image/png": "[encoded data removed]",
      "text/plain": [
       "<Figure size 1080x504 with 1 Axes>"
      ]
     },
     "metadata": {},
     "output_type": "display_data"
    },
    {
     "data": {
      "image/png": "[encoded data removed]",
      "text/plain": [
       "<Figure size 1080x504 with 1 Axes>"
      ]
     },
     "metadata": {},
     "output_type": "display_data"
    },
    {
     "data": {
      "image/png": "[encoded data removed]",
      "text/plain": [
       "<Figure size 1080x504 with 1 Axes>"
      ]
     },
     "metadata": {},
     "output_type": "display_data"
    },
    {
     "data": {
      "image/png": "[encoded data removed]",
      "text/plain": [
       "<Figure size 1080x504 with 1 Axes>"
      ]
     },
     "metadata": {},
     "output_type": "display_data"
    }
   ],
   "source": [
    "%matplotlib inline\n",
    "\n",
    "#set ggplot style\n",
    "plt.style.use('ggplot')\n",
    "\n",
    "dpath = '/Users/manishav/workspace/irexplain/src/main/python/explain/uniform_kernel/mask/'\n",
    "for ifile in os.listdir(dpath):\n",
    "    # read the file and get the average.\n",
    "    if 'kendal' in ifile:\n",
    "        frame = pd.read_csv(dpath+'/'+ifile, sep=',')\n",
    "        print(ifile, frame['ktau'].mean())\n",
    "        print(ifile, frame.groupby('doc_rel')['ktau'].agg(np.mean))\n",
    "    else:\n",
    "        frame = pd.read_csv(dpath+'/'+ifile, sep=',')\n",
    "        print(ifile)\n",
    "        print(frame[frame['kernel'].isin([1,10,100,1000.0,10000.0,1000000.0])].groupby(['kernel'])['dfr'].agg(np.mean))\n",
    "        fig, ax = plt.subplots(figsize=(15,7))\n",
    "        frame['doc_rel']= frame['doc_rel'].map({1:'rel', 0:'non-rel'})\n",
    "        frame[frame['kernel'] < 1000].groupby(['kernel','doc_rel'])['dfr'].agg(np.mean).unstack().plot(ax=ax)\n",
    "        ax.set_xlabel('Kernel width')\n",
    "        ax.set_ylabel('Average Divergence')\n",
    "        fig.savefig(ifile+'.png')\n",
    "        "
   ]
  },
  {
   "cell_type": "code",
   "execution_count": null,
   "metadata": {},
   "outputs": [],
   "source": [
    "lucene.initVM(classpath=lucene.CLASSPATH, vmargs=['-Djava.awt.headless=true'])\n",
    "analyzer = StandardAnalyzer()\n",
    "print(lucene.CLASSPATH)"
   ]
  },
  {
   "cell_type": "code",
   "execution_count": null,
   "metadata": {},
   "outputs": [],
   "source": [
    "tokenize_text('2790-0091 youths passengers staff diplomatic center 182123 77 77 182123 wire suffered')\n",
    "indexPath = File(index_path).toPath()\n",
    "index_dir = FSDirectory.open(indexPath)\n",
    "reader = DirectoryReader.open(index_dir)\n",
    "searcher = IndexSearcher(reader)\n",
    "\n",
    "text_field = 'words'\n",
    "analyzer = WhitespaceAnalyzer()\n",
    "query_parser = QueryParser('id', analyzer)\n",
    "score_docs = searcher.search(query_parser.parse(str('LA022790-0091')),1).scoreDocs"
   ]
  },
  {
   "cell_type": "code",
   "execution_count": null,
   "metadata": {},
   "outputs": [],
   "source": [
    "import math\n",
    "tc_dict = {}                     # Counts of each term\n",
    "dc_dict = {}                     # Number of docs associated with each term\n",
    "tfidf_dict = {}   \n",
    "if len(score_docs) > 0:\n",
    "    # get the tf-idf vector.\n",
    "    termVector = reader.getTermVector(score_docs[0].doc, text_field);\n",
    "    termsEnumvar = termVector.iterator()\n",
    "    termsref = BytesRefIterator.cast_(termsEnumvar)\n",
    "    N_terms = 0\n",
    "    try:\n",
    "        while (termsref.next()):\n",
    "            termval = TermsEnum.cast_(termsref)\n",
    "            fg = termval.term().utf8ToString()       # Term in unicode\n",
    "            tc = termval.totalTermFreq()             # Term count in the doc\n",
    "\n",
    "            # Number of docs having this term in the index\n",
    "            dc = reader.docFreq(Term(text_field, termval.term())) \n",
    "            N_terms = N_terms + 1 \n",
    "            tc_dict[fg]=tc\n",
    "            dc_dict[fg]=dc\n",
    "    except:\n",
    "        print('error in term_dict')\n",
    "\n",
    "    # Compute TF-IDF for each term\n",
    "    for term in tc_dict:\n",
    "        tf = tc_dict[term] / N_terms\n",
    "        idf = 1 + math.log(reader.numDocs()/(dc_dict[term]+1)) \n",
    "        tfidf_dict[term] = tf*idf\n"
   ]
  }
 ],
 "metadata": {
  "kernelspec": {
   "display_name": "Python 3",
   "language": "python",
   "name": "python3"
  },
  "language_info": {
   "codemirror_mode": {
    "name": "ipython",
    "version": 3
   },
   "file_extension": ".py",
   "mimetype": "text/x-python",
   "name": "python",
   "nbconvert_exporter": "python",
   "pygments_lexer": "ipython3",
   "version": "3.7.1"
  }
 },
 "nbformat": 4,
 "nbformat_minor": 2
}
